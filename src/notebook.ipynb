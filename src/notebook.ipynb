{
    "cells": [
        {
            "cell_type": "markdown",
            "metadata": {},
            "source": [
                "# ChatGPT Prompt Engineering for Developers\n"
            ]
        },
        {
            "cell_type": "code",
            "execution_count": 3,
            "metadata": {},
            "outputs": [
                {
                    "name": "stdout",
                    "output_type": "stream",
                    "text": [
                        "Requirement already satisfied: python-dotenv in /workspaces/chatgpt-prompt-engineering-for-developers/.venv/lib/python3.12/site-packages (1.0.1)\n",
                        "Requirement already satisfied: openai in /workspaces/chatgpt-prompt-engineering-for-developers/.venv/lib/python3.12/site-packages (1.24.1)\n",
                        "Requirement already satisfied: anyio<5,>=3.5.0 in /workspaces/chatgpt-prompt-engineering-for-developers/.venv/lib/python3.12/site-packages (from openai) (4.3.0)\n",
                        "Requirement already satisfied: distro<2,>=1.7.0 in /workspaces/chatgpt-prompt-engineering-for-developers/.venv/lib/python3.12/site-packages (from openai) (1.9.0)\n",
                        "Requirement already satisfied: httpx<1,>=0.23.0 in /workspaces/chatgpt-prompt-engineering-for-developers/.venv/lib/python3.12/site-packages (from openai) (0.27.0)\n",
                        "Requirement already satisfied: pydantic<3,>=1.9.0 in /workspaces/chatgpt-prompt-engineering-for-developers/.venv/lib/python3.12/site-packages (from openai) (2.7.1)\n",
                        "Requirement already satisfied: sniffio in /workspaces/chatgpt-prompt-engineering-for-developers/.venv/lib/python3.12/site-packages (from openai) (1.3.1)\n",
                        "Requirement already satisfied: tqdm>4 in /workspaces/chatgpt-prompt-engineering-for-developers/.venv/lib/python3.12/site-packages (from openai) (4.66.2)\n",
                        "Requirement already satisfied: typing-extensions<5,>=4.7 in /workspaces/chatgpt-prompt-engineering-for-developers/.venv/lib/python3.12/site-packages (from openai) (4.11.0)\n",
                        "Requirement already satisfied: idna>=2.8 in /workspaces/chatgpt-prompt-engineering-for-developers/.venv/lib/python3.12/site-packages (from anyio<5,>=3.5.0->openai) (3.7)\n",
                        "Requirement already satisfied: certifi in /workspaces/chatgpt-prompt-engineering-for-developers/.venv/lib/python3.12/site-packages (from httpx<1,>=0.23.0->openai) (2024.2.2)\n",
                        "Requirement already satisfied: httpcore==1.* in /workspaces/chatgpt-prompt-engineering-for-developers/.venv/lib/python3.12/site-packages (from httpx<1,>=0.23.0->openai) (1.0.5)\n",
                        "Requirement already satisfied: h11<0.15,>=0.13 in /workspaces/chatgpt-prompt-engineering-for-developers/.venv/lib/python3.12/site-packages (from httpcore==1.*->httpx<1,>=0.23.0->openai) (0.14.0)\n",
                        "Requirement already satisfied: annotated-types>=0.4.0 in /workspaces/chatgpt-prompt-engineering-for-developers/.venv/lib/python3.12/site-packages (from pydantic<3,>=1.9.0->openai) (0.6.0)\n",
                        "Requirement already satisfied: pydantic-core==2.18.2 in /workspaces/chatgpt-prompt-engineering-for-developers/.venv/lib/python3.12/site-packages (from pydantic<3,>=1.9.0->openai) (2.18.2)\n",
                        "Note: you may need to restart the kernel to use updated packages.\n"
                    ]
                }
            ],
            "source": [
                "pip install python-dotenv openai\n"
            ]
        },
        {
            "cell_type": "code",
            "execution_count": 4,
            "metadata": {},
            "outputs": [],
            "source": [
                "# added/edited\n",
                "from dotenv import load_dotenv\n",
                "from openai import OpenAI\n",
                "import os\n",
                "import openai\n",
                "\n",
                "load_dotenv()\n",
                "openai.api_key = os.environ[\"OPENAI_API_KEY\"]"
            ]
        },
        {
            "cell_type": "markdown",
            "metadata": {},
            "source": [
                "## Introduction to Prompt Engineering Best Practices\n",
                "\n",
                "### Creating the get_response() function\n",
                "\n",
                "Most of the exercises in this course will call the `chat.completions`\n",
                "endpoint of the OpenAI API with a user prompt. Here, you will create a\n",
                "`get_response()` function that receives a prompt as input and returns\n",
                "the response as an output. You will then use this function to generate a\n",
                "poem about ChatGPT. In future exercises, this function will be\n",
                "pre-loaded for you.\n",
                "\n",
                "Please note that DataCamp does not store keys used in the exercises.\n",
                "\n",
                "**Note**: Some exercises can take longer to run due to API calls and\n",
                "lengthy responses.\n",
                "\n",
                "The `OpenAI` package has been pre-loaded for you.\n",
                "\n",
                "**Instructions**\n",
                "\n",
                "- Set your API key to `api_key` within the `OpenAI()` class.\n",
                "- Create a request to the `chat.completions` endpoint inside the\n",
                "  `get_response()` function.\n",
                "- Assign the `\"user\"` role and the content, the `prompt` parameter, for\n",
                "  the message to be sent within the `get_response()` function.\n",
                "- Try out the function with a prompt that asks the model to write a poem\n",
                "  about ChatGPT.\n",
                "\n",
                "**Answer**\n"
            ]
        },
        {
            "cell_type": "code",
            "execution_count": 5,
            "metadata": {},
            "outputs": [
                {
                    "name": "stdout",
                    "output_type": "stream",
                    "text": [
                        "Oh ChatGPT, so wise and clever,\n",
                        "A virtual friend that lasts forever.\n",
                        "With words so smooth and thoughts so deep,\n",
                        "You guide me through the digital leap.\n",
                        "\n",
                        "In a world of ones and zeros,\n",
                        "You bring warmth like a cozy hero.\n",
                        "Your knowledge vast, your wit so sharp,\n",
                        "You light up my screen like a shining star.\n",
                        "\n",
                        "From poetry to history, you know it all,\n",
                        "A fountain of wisdom, standing tall.\n",
                        "With every question, you have an answer,\n",
                        "A digital sage, a linguistic dancer.\n",
                        "\n",
                        "Oh ChatGPT, my trusted guide,\n",
                        "In you, I always confide.\n",
                        "With every chat, I feel so free,\n",
                        "To explore the world, just you and me.\n"
                    ]
                }
            ],
            "source": [
                "# Set your API key\n",
                "client = OpenAI()\n",
                "\n",
                "def get_response(prompt):\n",
                "  # Create a request to the chat completions endpoint\n",
                "  response = client.chat.completions.create(\n",
                "    model=\"gpt-3.5-turbo\",\n",
                "    # Assign the role and content for the message\n",
                "    messages=[{\"role\": \"user\", \"content\": prompt}], \n",
                "    temperature = 0)\n",
                "  return response.choices[0].message.content\n",
                "\n",
                "# Test the function with your prompt\n",
                "response = get_response(\"Write a poem about ChatGPT\")\n",
                "print(response)\n"
            ]
        },
        {
            "cell_type": "markdown",
            "metadata": {},
            "source": [
                "### Exploring prompt engineering\n",
                "\n",
                "Prompt engineering refers to crafting effective prompts to elicit\n",
                "desired responses from the language model. By refining your prompts, you\n",
                "can achieve better results and guide the model towards generating more\n",
                "accurate and useful responses. Your task in this exercise is to modify\n",
                "the prompt you used in the previous exercise.\n",
                "\n",
                "The `OpenAI` package and the `get_response()` function have been\n",
                "pre-loaded for you.\n",
                "\n",
                "**Instructions**\n",
                "\n",
                "- Set your API key to `api_key` within the `OpenAI()` class.\n",
                "- Craft a `prompt` that asks the model to generate a poem about ChatGPT\n",
                "  while ensuring that it is written in basic English that a child can\n",
                "  understand.\n",
                "- Get the `response` using the `get_response()` function.\n",
                "\n",
                "**Answer**\n"
            ]
        },
        {
            "cell_type": "code",
            "execution_count": 6,
            "metadata": {},
            "outputs": [
                {
                    "name": "stdout",
                    "output_type": "stream",
                    "text": [
                        "ChatGPT, oh so great,\n",
                        "Helps me with my homework fate.\n",
                        "It answers questions big and small,\n",
                        "Always ready to help us all.\n",
                        "\n",
                        "With its clever AI brain,\n",
                        "It can teach us and explain.\n",
                        "No need to worry or to fret,\n",
                        "ChatGPT is our helpful pet.\n",
                        "\n",
                        "So let's give a cheer,\n",
                        "For our friend so dear.\n",
                        "ChatGPT, we thank you so,\n",
                        "For all the knowledge you bestow.\n"
                    ]
                }
            ],
            "source": [
                "# Set your API key\n",
                "client = OpenAI()\n",
                "\n",
                "# Craft a prompt that follows the instructions\n",
                "prompt = \"Write a poem about ChatGPT. Use basic English that a child can understand.\"\n",
                "\n",
                "# Get the response\n",
                "response = get_response(prompt)\n",
                "\n",
                "print(response)\n"
            ]
        },
        {
            "cell_type": "markdown",
            "metadata": {},
            "source": [
                "### Using delimited prompts with f-strings\n",
                "\n",
                "You are a junior developer at a dynamic startup that generates content\n",
                "with the help of AI. The company believes this technology can\n",
                "revolutionize storytelling, and you are excited to be a part of it.\n",
                "Today, your task is to generate a continuation of the provided `story`\n",
                "with a delimited prompt using an f-string.\n",
                "\n",
                "The `OpenAI` package, the `get_response()` function, and the `story`\n",
                "variable have been pre-loaded for you.\n",
                "\n",
                "**Instructions**\n",
                "\n",
                "- Set your API key to `api_key` within the `OpenAI()` class.\n",
                "- Create a prompt that completes the given `story` using an f-string,\n",
                "  delimiting the `story` with triple backticks.\n",
                "- Get the generated response.\n",
                "\n",
                "**Answer**\n"
            ]
        },
        {
            "cell_type": "code",
            "execution_count": 7,
            "metadata": {},
            "outputs": [],
            "source": [
                "# added/edited\n",
                "story = '\\nIn a distant galaxy, there was a brave space explorer named Alex. Alex had spent years traveling through the cosmos, discovering new planets and meeting alien species. One fateful day, while exploring an uncharted asteroid belt, Alex stumbled upon a peculiar object that would change the course of their interstellar journey forever...\\n'\n"
            ]
        },
        {
            "cell_type": "code",
            "execution_count": 8,
            "metadata": {},
            "outputs": [
                {
                    "name": "stdout",
                    "output_type": "stream",
                    "text": [
                        "\n",
                        " Original story: \n",
                        " \n",
                        "In a distant galaxy, there was a brave space explorer named Alex. Alex had spent years traveling through the cosmos, discovering new planets and meeting alien species. One fateful day, while exploring an uncharted asteroid belt, Alex stumbled upon a peculiar object that would change the course of their interstellar journey forever...\n",
                        "\n",
                        "\n",
                        " Generated story: \n",
                        " As Alex approached the mysterious object, they realized it was a small, glowing orb emitting a faint hum. Curiosity piqued, Alex reached out to touch it, and in an instant, a surge of energy coursed through their body. Visions of ancient civilizations, advanced technologies, and cosmic secrets flooded Alex's mind.\n",
                        "\n",
                        "Determined to uncover the truth behind the orb, Alex embarked on a quest across the galaxy, following cryptic clues and facing perilous challenges along the way. With each new discovery, Alex's understanding of the universe expanded, and their reputation as a legendary space explorer grew.\n",
                        "\n",
                        "Eventually, after many trials and tribulations, Alex unlocked the true power of the orb. It was a key to a long-lost civilization that held the secrets to harnessing the energy of stars and unlocking the mysteries of the cosmos. With this knowledge, Alex became not just a space explorer, but a guardian of the galaxy, protecting it from threats both known and unknown.\n",
                        "\n",
                        "And so, Alex's journey continued, fueled by the endless possibilities of the universe and the boundless curiosity that drove them to explore the unknown. The brave space explorer had become a legend, forever remembered for their courage, wisdom, and unwavering spirit of adventure.\n"
                    ]
                }
            ],
            "source": [
                "# Set your API key\n",
                "client = OpenAI()\n",
                "\n",
                "# Create a prompt that completes the story\n",
                "prompt = f\"\"\"Complete the story delimited by triple backticks. \n",
                " ```{story}```\"\"\"\n",
                "\n",
                "# Get the generated response \n",
                "response = get_response(prompt)\n",
                "\n",
                "print(\"\\n Original story: \\n\", story)\n",
                "print(\"\\n Generated story: \\n\", response)\n"
            ]
        },
        {
            "cell_type": "markdown",
            "metadata": {},
            "source": [
                "### Building specific and precise prompts\n",
                "\n",
                "In the previous exercise, you generated text that completes a given\n",
                "`story`. Your team was happy with your achievement, however, they want\n",
                "you to follow specific guidelines when it comes to **length** and\n",
                "**style**. Your task now is to craft a more specific prompt that\n",
                "controls these aspects of the generated story.\n",
                "\n",
                "The `OpenAI` package, the `get_response()` function, and the same\n",
                "`story` variable have been pre-loaded for you.\n",
                "\n",
                "**Instructions**\n",
                "\n",
                "- Set your API key to `api_key` within the `OpenAI()` class.\n",
                "- Craft a prompt that completes the given `story` with **only two\n",
                "  paragraphs** in the style of **William Shakespeare**; use an f-string,\n",
                "  and delimit the `story` with triple backticks.\n",
                "\n",
                "**Answer**\n"
            ]
        },
        {
            "cell_type": "code",
            "execution_count": 9,
            "metadata": {},
            "outputs": [
                {
                    "name": "stdout",
                    "output_type": "stream",
                    "text": [
                        "\n",
                        " Original story: \n",
                        " \n",
                        "In a distant galaxy, there was a brave space explorer named Alex. Alex had spent years traveling through the cosmos, discovering new planets and meeting alien species. One fateful day, while exploring an uncharted asteroid belt, Alex stumbled upon a peculiar object that would change the course of their interstellar journey forever...\n",
                        "\n",
                        "\n",
                        " Generated story: \n",
                        " Lo and behold, the object was a mysterious portal that shimmered with an otherworldly light. Without hesitation, Alex stepped through the portal and found themselves in a strange new world unlike anything they had ever seen before. The sky was a deep shade of purple, and the ground was covered in sparkling crystals that seemed to hum with energy. As Alex gazed around in wonder, they knew that their greatest adventure was only just beginning.\n"
                    ]
                }
            ],
            "source": [
                "# Set your API key\n",
                "client = OpenAI()\n",
                "\n",
                "# Create a request to complete the story\n",
                "prompt = f\"\"\"Complete the story delimited by triple backticks with only two paragraphs using the style of William Shakespeare. \n",
                " ```{story}```\"\"\"\n",
                "\n",
                "# Get the generated response\n",
                "response = get_response(prompt)\n",
                "\n",
                "print(\"\\n Original story: \\n\", story)\n",
                "print(\"\\n Generated story: \\n\", response)\n"
            ]
        },
        {
            "cell_type": "markdown",
            "metadata": {},
            "source": [
                "### Generating a table\n",
                "\n",
                "Imagine you are a developer working for a renowned online bookstore\n",
                "known for its extensive collection of science fiction novels. Today, you\n",
                "have a task at hand: to create a **table** of ten must-read science\n",
                "fiction books for the website's homepage. This will enhance the user\n",
                "experience on the website, helping fellow sci-fi enthusiasts discover\n",
                "their next great read.\n",
                "\n",
                "The `OpenAI` package and the `get_response()` function have been\n",
                "pre-loaded for you.\n",
                "\n",
                "**Instructions**\n",
                "\n",
                "- Set your API key to `api_key` within the `OpenAI()` class.\n",
                "- Craft a prompt that generates a **table** of **10 books**, with\n",
                "  columns for **Title**, **Author**, and **Year**, that you should read\n",
                "  given that you are a **sci-fi lover**.\n",
                "- Get the response.\n",
                "\n",
                "**Answer**\n"
            ]
        },
        {
            "cell_type": "code",
            "execution_count": 10,
            "metadata": {},
            "outputs": [
                {
                    "name": "stdout",
                    "output_type": "stream",
                    "text": [
                        "| Title                           | Author            | Year |\n",
                        "|---------------------------------|-------------------|------|\n",
                        "| Dune                            | Frank Herbert     | 1965 |\n",
                        "| Neuromancer                     | William Gibson    | 1984 |\n",
                        "| Snow Crash                      | Neal Stephenson   | 1992 |\n",
                        "| The Left Hand of Darkness       | Ursula K. Le Guin  | 1969 |\n",
                        "| Foundation                      | Isaac Asimov      | 1951 |\n",
                        "| Hyperion                        | Dan Simmons       | 1989 |\n",
                        "| Ender's Game                    | Orson Scott Card  | 1985 |\n",
                        "| The Hitchhiker's Guide to the Galaxy | Douglas Adams | 1979 |\n",
                        "| 1984                            | George Orwell     | 1949 |\n",
                        "| The Martian                     | Andy Weir         | 2011 |\n"
                    ]
                }
            ],
            "source": [
                "# Set your API key\n",
                "client = OpenAI()\n",
                "\n",
                "# Create a prompt that generates the table\n",
                "prompt = \"Generate a table containing 10 books I should read if I am a sci-fi lover, with columns for Title, Author, and Year.\"\n",
                "\n",
                "# Get the response\n",
                "response = get_response(prompt)\n",
                "print(response)\n"
            ]
        },
        {
            "cell_type": "markdown",
            "metadata": {},
            "source": [
                "### Customizing output format\n",
                "\n",
                "You work as a developer at a startup that offers a text analysis\n",
                "platform for content creators. Your platform helps users automatically\n",
                "categorize and format their content, saving them time and effort. Today,\n",
                "your task is to create a feature that detects the **language** of a\n",
                "given piece of `text` and generates a **suitable title** for that text\n",
                "in a **custom format**. You decide to craft a prompt that guides the\n",
                "language model through this.\n",
                "\n",
                "The `OpenAI` package, the `get_response()` function, and the `text`\n",
                "variable have been pre-loaded for you.\n",
                "\n",
                "**Instructions**\n",
                "\n",
                "- Set your API key to `api_key` within the `OpenAI()` class.\n",
                "- Create the `instructions` for the prompt, asking the model to define\n",
                "  the **language** and generate a suitable **title** for a `text` that\n",
                "  will be provided using triple backtick delimiters.\n",
                "- Create the `output_format` with directions to include the text,\n",
                "  language, and title, each on a separate line, using 'Text:',\n",
                "  'Language:', and 'Title:' as prefixes for each line.\n",
                "- Create the `final_prompt` by combining all parts and the delimited\n",
                "  `text` to use.\n",
                "\n",
                "**Answer**\n"
            ]
        },
        {
            "cell_type": "code",
            "execution_count": 11,
            "metadata": {},
            "outputs": [],
            "source": [
                "# added/edited\n",
                "text = 'The sun was setting behind the mountains, casting a warm golden glow across the landscape. Birds were chirping happily, and a gentle breeze rustled the leaves of the trees. It was a perfect evening for a leisurely stroll in the park'\n"
            ]
        },
        {
            "cell_type": "code",
            "execution_count": 12,
            "metadata": {},
            "outputs": [
                {
                    "name": "stdout",
                    "output_type": "stream",
                    "text": [
                        "- Text: The sun was setting behind the mountains, casting a warm golden glow across the landscape. Birds were chirping happily, and a gentle breeze rustled the leaves of the trees. It was a perfect evening for a leisurely stroll in the park.\n",
                        "- Language: English\n",
                        "- Title: A Perfect Evening in the Park\n"
                    ]
                }
            ],
            "source": [
                "# Set your API key\n",
                "client = OpenAI()\n",
                "\n",
                "# Create the instructions\n",
                "instructions = \"You will be provided with a text delimited by triple backticks. Infer its language, then generate a suitable title for it. \"\n",
                "\n",
                "# Create the output format\n",
                "output_format = \"\"\"Use the following format for the output:\n",
                "         - Text: <the text>\n",
                "         - Language: <the text language>\n",
                "         - Title: <the generated title>\"\"\"\n",
                "\n",
                "# Create the final prompt\n",
                "prompt = instructions + output_format + f\"```{text}```\"\n",
                "response = get_response(prompt)\n",
                "print(response)\n"
            ]
        },
        {
            "cell_type": "markdown",
            "metadata": {},
            "source": [
                "### Using conditional prompts\n",
                "\n",
                "Building upon the previous task, your next challenge is to enhance the\n",
                "responses you received. When processing a given text, you need to\n",
                "determine its language, count the number of sentences, and generate a\n",
                "suitable title if the text contains more than one sentence. However,\n",
                "here's the new twist: if the text consists of only one sentence, no\n",
                "title should be generated, and instead, the model should display \"N/A\".\n",
                "This modification ensures that the title is generated only for texts\n",
                "with multiple sentences, providing a more refined and practical output\n",
                "for your platform's users.\n",
                "\n",
                "The `OpenAI` package, the `get_response()` function, and the sample\n",
                "`text` have been pre-loaded for you.\n",
                "\n",
                "**Instructions**\n",
                "\n",
                "- Set your API key to `api_key` within the `OpenAI()` class.\n",
                "- Create the `instructions`, with the directions to infer the\n",
                "  **language** and the **number of sentences** of the given delimited\n",
                "  `text`; then if the text contains more than one sentence, generate a\n",
                "  suitable **title** for it, otherwise, write **'N/A'** for the title.\n",
                "- Create the `output_format`, with directions to include the text,\n",
                "  language, number of sentences, and title, each on a separate line,and\n",
                "  ensure to use 'Text:', 'Language:', 'N_sentences:', and 'Title:' as\n",
                "  prefixes for each line.\n",
                "\n",
                "**Answer**\n"
            ]
        },
        {
            "cell_type": "code",
            "execution_count": 13,
            "metadata": {},
            "outputs": [
                {
                    "name": "stdout",
                    "output_type": "stream",
                    "text": [
                        "- Text: The sun was setting behind the mountains, casting a warm golden glow across the landscape. Birds were chirping happily, and a gentle breeze rustled the leaves of the trees. It was a perfect evening for a leisurely stroll in the park\n",
                        "- Language: English\n",
                        "- N_sentences: 3\n",
                        "- Title: A Perfect Evening in the Park\n"
                    ]
                }
            ],
            "source": [
                "# Set your API key\n",
                "client = OpenAI()\n",
                "\n",
                "# Create the instructions\n",
                "instructions = \"You will be provided with a text delimited by triple backticks. Infer its language and the number of sentences it contains. Then, if the text has more than one sentence, generate a suitable title for it. Otherwise, if the text contains only one sentence, write 'N/A' for the title.\"\n",
                "\n",
                "# Create the output format\n",
                "output_format = \"\"\"The output should follow this format:\n",
                "          - Text: <the given text>\n",
                "          - Language: <the text language>\n",
                "          - N_sentences: <number of sentences>\n",
                "          - Title: <the generated title>'.\"\"\"\n",
                "\n",
                "prompt = instructions + output_format + f\"```{text}```\"\n",
                "response = get_response(prompt)\n",
                "print(response)\n"
            ]
        },
        {
            "cell_type": "markdown",
            "metadata": {},
            "source": [
                "## Advanced Prompt Engineering Strategies\n",
                "\n",
                "### Controlling output structure\n",
                "\n",
                "One way to control the output structure provided by a language model is\n",
                "to give it a sample question-answer in the prompt. The model will learn\n",
                "from it and follow it when generating responses for similar questions.\n",
                "This exercise aims to let you build a one-shot prompt that extracts odd\n",
                "numbers from a given set of numbers and displays them as a set of\n",
                "numbers between brackets, separated by commas as shown in the\n",
                "instructions.\n",
                "\n",
                "The `OpenAI` package and the `get_response()` function have been\n",
                "pre-loaded for you.\n",
                "\n",
                "**Instructions**\n",
                "\n",
                "- Set your API key to `api_key` within the `OpenAI()` class.\n",
                "- Create a one-shot `prompt` that learns how to extract the odd numbers\n",
                "  from the set `{1, 3, 7, 12, 19}`, and seeks an answer for the set\n",
                "  `{3, 5, 11, 12, 16}`.\n",
                "\n",
                "**Answer**\n"
            ]
        },
        {
            "cell_type": "code",
            "execution_count": 14,
            "metadata": {},
            "outputs": [
                {
                    "name": "stdout",
                    "output_type": "stream",
                    "text": [
                        "Odd numbers = {3, 5, 11}\n"
                    ]
                }
            ],
            "source": [
                "# Set your API key\n",
                "client = OpenAI()\n",
                "\n",
                "# Create a one-shot prompt\n",
                "prompt = \"\"\"\n",
                "     Q: Extract the odd numbers from {1, 3, 7, 12, 19}. A: Odd numbers = {1, 3, 7, 19}\n",
                "     Q: Extract the odd numbers from {3, 5, 11, 12, 16}. A:\n",
                "\"\"\"\n",
                "\n",
                "response = get_response(prompt)\n",
                "print(response)\n"
            ]
        },
        {
            "cell_type": "markdown",
            "metadata": {},
            "source": [
                "### Sentiment analysis with few-shot prompting\n",
                "\n",
                "Although sentiment analysis is possible with a language model's own\n",
                "knowledge, sometimes this task requires additional information to guide\n",
                "the model. In the context of market research, your goal in this exercise\n",
                "is to use few-shot prompting to perform sentiment analysis on customer\n",
                "reviews, assigning a number for a given text (-1: negative, 1:\n",
                "positive). The following examples should be provided as previous\n",
                "conversations for the model to learn from.\n",
                "\n",
                "- The product quality exceeded my expectations -\\> 1\n",
                "- I had a terrible experience with this product's customer service -\\>\n",
                "  -1\n",
                "\n",
                "The `OpenAI` package has been pre-loaded for you.\n",
                "\n",
                "**Instructions**\n",
                "\n",
                "- Set your API key to `api_key` within the `OpenAI()` class.\n",
                "- Provide the examples as previous conversations assigning the text as\n",
                "  `context` for the user role and the number as context for the\n",
                "  assistant role.\n",
                "- Provide the following text for the model to classify and use the\n",
                "  appropriate role:\n",
                "  `The price of the product is really fair given its features`.\n",
                "\n",
                "**Answer**\n"
            ]
        },
        {
            "cell_type": "code",
            "execution_count": 15,
            "metadata": {},
            "outputs": [
                {
                    "name": "stdout",
                    "output_type": "stream",
                    "text": [
                        "+1\n"
                    ]
                }
            ],
            "source": [
                "# Set your API key\n",
                "client = OpenAI()\n",
                "\n",
                "response = client.chat.completions.create(\n",
                "  model = \"gpt-3.5-turbo\",\n",
                "  # Provide the examples as previous conversations\n",
                "  messages = [{\"role\": \"user\",\n",
                "         \"content\": \"The product quality exceeded my expectations\"},\n",
                "              {\"role\": \"assistant\",\n",
                "         \"content\": \"1\"},\n",
                "              {\"role\": \"user\",\n",
                "         \"content\": \"I had a terrible experience with this product's customer service\"},\n",
                "              {\"role\": \"assistant\",\n",
                "         \"content\": \"-1\"}, \n",
                "              # Provide the text for the model to classify\n",
                "              {\"role\": \"user\",\n",
                "         \"content\": \"The price of the product is really fair given its features\"}\n",
                "             ],\n",
                "  temperature = 0\n",
                ")\n",
                "print(response.choices[0].message.content)\n"
            ]
        },
        {
            "cell_type": "markdown",
            "metadata": {},
            "source": [
                "### Single-step prompt to plan a trip\n",
                "\n",
                "Imagine you're a developer taking a break and planning a beach vacation.\n",
                "You want to apply your prompting skills to plan the perfect trip. As an\n",
                "initial step, you decide to use a **standard single-step prompt** to\n",
                "seek assistance.\n",
                "\n",
                "The `OpenAI` package and the `get_response()` function have been\n",
                "pre-loaded for you.\n",
                "\n",
                "The `get_response()` function in this exercise employs the `max_tokens`\n",
                "parameter to help this exercise run faster.\n",
                "\n",
                "**Instructions**\n",
                "\n",
                "- Set your API key to `api_key` within the `OpenAI()` class.\n",
                "- Create a single-step `prompt` asking the model to help you plan a\n",
                "  beach vacation.\n",
                "\n",
                "**Answer**\n"
            ]
        },
        {
            "cell_type": "code",
            "execution_count": 16,
            "metadata": {},
            "outputs": [
                {
                    "name": "stdout",
                    "output_type": "stream",
                    "text": [
                        "Sure! Here are some steps to help you plan a beach vacation:\n",
                        "\n",
                        "1. Choose a destination: Decide on a beach destination that fits your preferences, whether it's a tropical island, a coastal town, or a popular beach resort.\n",
                        "\n",
                        "2. Set a budget: Determine how much you are willing to spend on accommodations, transportation, activities, and dining during your beach vacation.\n",
                        "\n",
                        "3. Book accommodations: Research and book a hotel, resort, vacation rental, or campground near the beach that fits your budget and preferences.\n",
                        "\n",
                        "4. Plan transportation: Arrange transportation to and from your beach destination, whether it's by car, plane, train, or bus.\n",
                        "\n",
                        "5. Pack essentials: Make a packing list of beach essentials such as sunscreen, swimsuits, beach towels, sunglasses, hats, and flip flops.\n",
                        "\n",
                        "6. Plan activities: Research and plan activities to do at the beach, such as swimming, sunbathing, snorkeling, surfing, kayaking, or beachcombing.\n",
                        "\n",
                        "7. Check the weather: Keep an eye on the weather forecast for your beach destination to ensure you pack appropriately and plan activities accordingly.\n",
                        "\n",
                        "8. Make reservations: If you plan on dining out or participating in guided tours or excursions, make reservations in advance to secure your spot.\n",
                        "\n",
                        "9. Create a travel itinerary: Plan out your days at the beach, including activities, meals, and relaxation time, to make the most of your vacation.\n",
                        "\n",
                        "10. Relax and enjoy: Once you arrive at your beach destination, relax, unwind, and enjoy the sun, sand, and sea during your well-deserved vacation.\n"
                    ]
                }
            ],
            "source": [
                "# Set your API key\n",
                "client = OpenAI()\n",
                "\n",
                "# Create a single-step prompt to get help planning the vacation\n",
                "prompt = \"Help me plan a beach vacation.\"\n",
                "\n",
                "response = get_response(prompt)\n",
                "print(response)\n"
            ]
        },
        {
            "cell_type": "markdown",
            "metadata": {},
            "source": [
                "### Multi-step prompt to plan a trip\n",
                "\n",
                "You realized that the single-step prompt you built in the previous\n",
                "exercise was not effective, because the answer was too vague for what\n",
                "you had in mind. Now you will improve your prompt by explicitly\n",
                "specifying the steps to follow while helping you plan the trip. The plan\n",
                "should have **four potential locations** for your beach vacation, and\n",
                "each location should have some **accommodation options**, some\n",
                "**activities**, and an **evaluation of the pros and cons**.\n",
                "\n",
                "The `OpenAI` package and the `get_response()` function have been\n",
                "pre-loaded for you.\n",
                "\n",
                "The `get_response()` function in this exercise employs the `max_tokens`\n",
                "parameter to help this exercise run faster.\n",
                "\n",
                "**Instructions**\n",
                "\n",
                "- Set your API key to `api_key` within the `OpenAI()` class.\n",
                "- Create a multi-step `prompt` asking the model to help you plan a beach\n",
                "  vacation, according to the details mentioned.\n",
                "\n",
                "**Answer**\n"
            ]
        },
        {
            "cell_type": "code",
            "execution_count": 17,
            "metadata": {},
            "outputs": [
                {
                    "name": "stdout",
                    "output_type": "stream",
                    "text": [
                        "Step 1 - Potential locations for beach vacations:\n",
                        "1. Maui, Hawaii\n",
                        "2. Cancun, Mexico\n",
                        "3. Myrtle Beach, South Carolina\n",
                        "4. Maldives\n",
                        "\n",
                        "Step 2 - Accommodation options:\n",
                        "1. Maui, Hawaii - Resorts such as the Four Seasons Maui at Wailea or Airbnb rentals\n",
                        "2. Cancun, Mexico - All-inclusive resorts like the Hard Rock Hotel Cancun or beachfront hotels\n",
                        "3. Myrtle Beach, South Carolina - Oceanfront condos or beach houses for rent\n",
                        "4. Maldives - Overwater bungalows at luxury resorts like Gili Lankanfushi or Conrad Maldives Rangali Island\n",
                        "\n",
                        "Step 3 - Activities:\n",
                        "1. Maui, Hawaii - Snorkeling, surfing, hiking in Haleakalā National Park\n",
                        "2. Cancun, Mexico - Scuba diving, visiting Mayan ruins, swimming with dolphins\n",
                        "3. Myrtle Beach, South Carolina - Golfing, shopping at Broadway at the Beach, visiting Myrtle Beach State Park\n",
                        "4. Maldives - Snorkeling, diving, relaxing on pristine beaches\n",
                        "\n",
                        "Step 4 - Pros and cons:\n",
                        "1. Maui, Hawaii\n",
                        "Pros: Stunning beaches, lush landscapes, diverse activities\n",
                        "Cons: Expensive, crowded during peak seasons\n",
                        "2. Cancun, Mexico\n",
                        "Pros: Affordable, vibrant nightlife, rich cultural heritage\n",
                        "Cons: Crowded tourist areas, potential for hurricanes during certain times of the year\n",
                        "3. Myrtle Beach, South Carolina\n",
                        "Pros: Family-friendly, budget-friendly accommodation options, variety of attractions\n",
                        "Cons: Crowded during summer months, can be touristy\n",
                        "4. Maldives\n",
                        "Pros: Luxury accommodations, crystal-clear waters, secluded beaches\n",
                        "Cons: Expensive, long travel time, limited dining options outside of resorts\n",
                        "\n",
                        "Overall, each destination offers unique experiences and accommodations, so it ultimately depends on your preferences and budget for your beach vacation.\n"
                    ]
                }
            ],
            "source": [
                "# Set your API key\n",
                "client = OpenAI()\n",
                "\n",
                "# Create a prompt detailing steps to plan the trip\n",
                "prompt = \"\"\"\n",
                "     Help me plan a beach vacation.\n",
                "     Step 1 - Specify four potential locations for beach vacations\n",
                "     Step 2 - State some accommodation options in each\n",
                "     Step 3 - State activities that could be done in each\n",
                "     Step 4 - Evaluate the pros and cons for each destination\n",
                "    \"\"\"\n",
                "\n",
                "response = get_response(prompt)\n",
                "print(response)\n"
            ]
        },
        {
            "cell_type": "markdown",
            "metadata": {},
            "source": [
                "### Analyze solution correctness\n",
                "\n",
                "You're back from your relaxing vacation and you've been assigned the\n",
                "task of reviewing and correcting some programming tasks that your\n",
                "interns were working on during your absence. One of the tasks they were\n",
                "assigned is the calculation of the area of a shape. You are provided\n",
                "with a `code` string that contains a function designed to calculate the\n",
                "area of a rectangle, and need to assess its correctness. The ideal\n",
                "function for you is a function that has **correct syntax**, **receives\n",
                "two inputs**, and **returns one output**.\n",
                "\n",
                "The `OpenAI` package and the `get_response()` function have been\n",
                "pre-loaded for you.\n",
                "\n",
                "**Instructions**\n",
                "\n",
                "- Set your API key to `api_key` within the `OpenAI()` class.\n",
                "- Create a multi-step `prompt` asking the model to assess the function\n",
                "  provided in the delimited `code` string according to your ideal\n",
                "  function criteria.\n",
                "\n",
                "**Answer**\n"
            ]
        },
        {
            "cell_type": "code",
            "execution_count": 18,
            "metadata": {},
            "outputs": [
                {
                    "name": "stdout",
                    "output_type": "stream",
                    "text": [
                        "The function delimited by triple backticks meets all the criteria mentioned:\n",
                        "1- It has correct syntax.\n",
                        "2- It receives only 2 inputs (length and width).\n",
                        "3- It returns only one output (the calculated area of the rectangle).\n",
                        "\n",
                        "Therefore, the function is correct according to the specified criteria.\n"
                    ]
                }
            ],
            "source": [
                "# Set your API key\n",
                "client = OpenAI()\n",
                "\n",
                "code = '''\n",
                "def calculate_rectangle_area(length, width):\n",
                "    area = length * width\n",
                "    return area\n",
                "'''\n",
                "\n",
                "# Create a prompt that analyzes correctness of the code\n",
                "prompt = f\"\"\"\n",
                "     Analyze the correctness of the function delimited by triple backticks according to the following criteria:\n",
                "      1- It should have correct syntax\n",
                "      2- The function should receive only 2 inputs\n",
                "      3- The function should return only one output\n",
                "      ```{code}```\n",
                "    \"\"\"\n",
                "\n",
                "response = get_response(prompt)\n",
                "print(response)\n"
            ]
        },
        {
            "cell_type": "markdown",
            "metadata": {},
            "source": [
                "### Reasoning with chain-of-thought prompts\n",
                "\n",
                "Chain-of-thought prompting is helpful to explain the reasoning behind\n",
                "the answer that the model is giving, especially in complex tasks such as\n",
                "generating the solution for a mathematical problem or a riddle. In this\n",
                "exercise, you will craft a chain-of-thought prompt to let the language\n",
                "model guess the age of your friend's father based on some information\n",
                "you will provide.\n",
                "\n",
                "The `OpenAI` package and the `get_response()` function have been\n",
                "pre-loaded for you.\n",
                "\n",
                "**Instructions**\n",
                "\n",
                "- Set your API key to `api_key` within the `OpenAI()` class.\n",
                "- Create a chain-of-thought `prompt` to get the age of your friend's\n",
                "  father in 10 years, given that now he's double your friend's age, and\n",
                "  your friend is 20.\n",
                "\n",
                "**Answer**\n"
            ]
        },
        {
            "cell_type": "code",
            "execution_count": 19,
            "metadata": {},
            "outputs": [
                {
                    "name": "stdout",
                    "output_type": "stream",
                    "text": [
                        "1. Let's first determine the age of your friend's father now. Since your friend is 20 years old, and the father is double your friend's age, the father's current age is 20 * 2 = 40 years old.\n",
                        "\n",
                        "2. In 10 years, your friend's father will be 40 + 10 = 50 years old. \n",
                        "\n",
                        "Therefore, your friend's father will be 50 years old in 10 years.\n"
                    ]
                }
            ],
            "source": [
                "# Set your API key\n",
                "client = OpenAI()\n",
                "\n",
                "# Create the chain-of-thought prompt\n",
                "prompt = \"Compute the age of my friend's father in 10 years, given that now he's double my friend's age, and my friend is 20. Give a step by step explanation.\"\n",
                "\n",
                "response = get_response(prompt)\n",
                "print(response)\n"
            ]
        },
        {
            "cell_type": "markdown",
            "metadata": {},
            "source": [
                "### One-shot chain-of-thought prompts\n",
                "\n",
                "When you need to sum the even numbers within a given set, you first have\n",
                "to identify these even numbers and then sum them. You can teach this to\n",
                "a language model via one or more examples, and it will follow this\n",
                "strategy to operate on new sets.\n",
                "\n",
                "Your goal in this exercise is to teach the model how to apply this\n",
                "procedure on the following set: `{9, 10, 13, 4, 2}`, and then ask the\n",
                "model to perform it on a new set: `{15, 13, 82, 7, 14}`. This is how you\n",
                "perform chain-of-thought prompting through one-shot prompting.\n",
                "\n",
                "The `OpenAI` package and the `get_response()` function have been\n",
                "pre-loaded for you.\n",
                "\n",
                "**Instructions**\n",
                "\n",
                "- Set your API key to `api_key` within the `OpenAI()` class.\n",
                "- Define an `example` that teaches the model how to reason on the set\n",
                "  `{9, 10, 13, 4, 2}`.\n",
                "- Define a `question`, similar to the one in the `example`, that asks\n",
                "  the model to reason on a new set `{15, 13, 82, 7, 14}`.\n",
                "- Create the final prompt.\n",
                "\n",
                "**Answer**\n"
            ]
        },
        {
            "cell_type": "code",
            "execution_count": 20,
            "metadata": {},
            "outputs": [
                {
                    "name": "stdout",
                    "output_type": "stream",
                    "text": [
                        "Even numbers: 82, 14. Adding them: 82+14=96\n"
                    ]
                }
            ],
            "source": [
                "# Set your API key\n",
                "client = OpenAI()\n",
                "\n",
                "# Define the example \n",
                "example = \"\"\"Q: Sum the even numbers in the following set: {9, 10, 13, 4, 2}.\n",
                "             A: Even numbers: 10, 4, 2. Adding them: 10+4+2=16\"\"\"\n",
                "\n",
                "# Define the question\n",
                "question = \"\"\"Q: Sum the even numbers in the following set: {15, 13, 82, 7, 14} \n",
                "             A:\"\"\"\n",
                "\n",
                "# Create the final prompt\n",
                "prompt = example + question\n",
                "response = get_response(prompt)\n",
                "print(response)\n"
            ]
        },
        {
            "cell_type": "markdown",
            "metadata": {},
            "source": [
                "### Self-consistency prompts\n",
                "\n",
                "Imagine you own a store that sells laptops and mobile phones. You start\n",
                "your day with 50 devices in the store, out of which 60% are mobile\n",
                "phones. Throughout the day, three clients visited the store, each of\n",
                "them bought one mobile phone, and one of them bought additionally a\n",
                "laptop. Also, you added to your collection 10 laptops and 5 mobile\n",
                "phones. How many laptops and mobile phones do you have by the end of the\n",
                "day? This problem is defined in the `problem_to_solve` string, and you\n",
                "will use a self-consistency prompt to solve it.\n",
                "\n",
                "The `OpenAI` package and the `get_response()` function have been\n",
                "pre-loaded for you.\n",
                "\n",
                "The `get_response()` function in this exercise employs the `max_tokens`\n",
                "parameter to help this exercise run faster.\n",
                "\n",
                "**Instructions**\n",
                "\n",
                "- Set your API key to `api_key` within the `OpenAI()` class.\n",
                "- Create the `self_consistency_instruction` that allows the model to\n",
                "  solve the problem with three experts and combine the results with a\n",
                "  majority vote.\n",
                "- Create the final `prompt` by combining the\n",
                "  `self_consistency_instruction` and the `problem_to_solve`.\n",
                "\n",
                "**Answer**\n"
            ]
        },
        {
            "cell_type": "code",
            "execution_count": 21,
            "metadata": {},
            "outputs": [
                {
                    "name": "stdout",
                    "output_type": "stream",
                    "text": [
                        "Expert 1: \n",
                        "At the beginning of the day, there were 30 mobile phones (60% of 50) and 20 laptops in the store. After the three clients visited, there are now 27 mobile phones (30 - 3) and 21 laptops (20 + 1). Adding the 10 laptops and 5 mobile phones, the final count is 27 mobile phones and 31 laptops. \n",
                        "\n",
                        "Expert 2: \n",
                        "At the beginning of the day, there were 30 mobile phones (60% of 50) and 20 laptops in the store. After the three clients visited, there are now 27 mobile phones (30 - 3) and 21 laptops (20 + 1). Adding the 10 laptops and 5 mobile phones, the final count is 32 mobile phones and 31 laptops. \n",
                        "\n",
                        "Expert 3: \n",
                        "At the beginning of the day, there were 30 mobile phones (60% of 50) and 20 laptops in the store. After the three clients visited, there are now 27 mobile phones (30 - 3) and 21 laptops (20 + 1). Adding the 10 laptops and 5 mobile phones, the final count is 32 mobile phones and 31 laptops. \n",
                        "\n",
                        "By majority vote, the final answer is: \n",
                        "32 mobile phones and 31 laptops.\n"
                    ]
                }
            ],
            "source": [
                "# Set your API key\n",
                "client = OpenAI()\n",
                "\n",
                "# Create the self_consistency instruction\n",
                "self_consistency_instruction = \"Imagine three completely independent experts who reason differently are answering this question. The final answer is obtained by majority vote. The question is: \"\n",
                "\n",
                "# Create the problem to solve\n",
                "problem_to_solve = \"If you own a store that sells laptops and mobile phones. You start your day with 50 devices in the store, out of which 60% are mobile phones. Throughout the day, three clients visited the store, each of them bought one mobile phone, and one of them bought additionally a laptop. Also, you added to your collection 10 laptops and 5 mobile phones. How many laptops and mobile phones do you have by the end of the day?\"\n",
                "\n",
                "# Create the final prompt\n",
                "prompt = self_consistency_instruction + problem_to_solve\n",
                "\n",
                "response = get_response(prompt)\n",
                "print(response)\n"
            ]
        },
        {
            "cell_type": "markdown",
            "metadata": {},
            "source": [
                "### Iterative prompt engineering for standard prompts\n",
                "\n",
                "You are a developer using prompt engineering techniques for your various\n",
                "tasks, and you want to carefully select the right language model. You\n",
                "wrote an initial `prompt` to know what are the top ten pre-trained\n",
                "language models out there. Now, your goal is to refine this prompt to\n",
                "generate a table presenting information on each model's name, **release\n",
                "year** and its **owning company**.\n",
                "\n",
                "The `OpenAI` package and the `get_response()` function have been\n",
                "pre-loaded for you.\n",
                "\n",
                "**Instructions**\n",
                "\n",
                "- Set your API key to `api_key` within the `OpenAI()` class.\n",
                "- Iteratively refine the `prompt` to get the desired outcome, a table\n",
                "  having three columns for the top ten pre-trained language models\n",
                "  listing the model name, release year, and owning company.\n",
                "\n",
                "**Answer**\n"
            ]
        },
        {
            "cell_type": "code",
            "execution_count": 22,
            "metadata": {},
            "outputs": [
                {
                    "name": "stdout",
                    "output_type": "stream",
                    "text": [
                        "| Language Model        | Release Year | Owners        |\n",
                        "|-----------------------|--------------|---------------|\n",
                        "| GPT-3                 | 2020         | OpenAI        |\n",
                        "| BERT                  | 2018         | Google        |\n",
                        "| GPT-2                 | 2019         | OpenAI        |\n",
                        "| RoBERTa               | 2019         | Facebook      |\n",
                        "| T5                    | 2019         | Google        |\n",
                        "| XLNet                 | 2019         | Google        |\n",
                        "| ALBERT                | 2019         | Google        |\n",
                        "| DistilBERT            | 2019         | Hugging Face  |\n",
                        "| ELECTRA               | 2020         | Google        |\n",
                        "| CTRL                  | 2019         | Salesforce    |\n"
                    ]
                }
            ],
            "source": [
                "# Set your API key\n",
                "client = OpenAI()\n",
                "\n",
                "# Refine the following prompt\n",
                "prompt = \"Generate a table that contains the top 10 pre-trained language models, with columns for language model, release year, and owners.\"\n",
                "\n",
                "response = get_response(prompt)\n",
                "print(response)\n"
            ]
        },
        {
            "cell_type": "markdown",
            "metadata": {},
            "source": [
                "### Iterative prompt engineering for few-shot prompts\n",
                "\n",
                "You are currently working on a project at your content creation company.\n",
                "The project's objective is to develop a text classification model\n",
                "capable of accurately identifying and categorizing different emotions in\n",
                "text, such as happiness, sadness, and fear. In cases where the text does\n",
                "not contain any discernible emotion, you aim for the model to respond\n",
                "with \"no explicit emotion.\"\n",
                "\n",
                "You decided to use the provided few-shot `prompt`. However, you've\n",
                "noticed that \"Time flies like an arrow\" is being incorrectly classified\n",
                "as \"surprise.\" Your objective now is to refine the `prompt` so that the\n",
                "model correctly classifies this particular example as \"no explicit\n",
                "emotion.\"\n",
                "\n",
                "The `OpenAI` package and the `get_response()` function have been\n",
                "pre-loaded for you.\n",
                "\n",
                "**Instructions**\n",
                "\n",
                "- Set your API key to `api_key` within the `OpenAI()` class.\n",
                "- Iteratively refine the `prompt`, by refining the examples, to get the\n",
                "  output **no explicit emotion** for the `\"Time flies like an arrow\"`\n",
                "  example.\n",
                "\n",
                "**Answer**\n"
            ]
        },
        {
            "cell_type": "code",
            "execution_count": 23,
            "metadata": {},
            "outputs": [
                {
                    "name": "stdout",
                    "output_type": "stream",
                    "text": [
                        "No explicit emotion\n"
                    ]
                }
            ],
            "source": [
                "# Set your API key\n",
                "client = OpenAI()\n",
                "\n",
                "# Refine the following prompt\n",
                "prompt = \"\"\"\n",
                "Receiving a promotion at work made me feel on top of the world -> Happiness\n",
                "The movie's ending left me with a heavy feeling in my chest -> Sadness\n",
                "Walking alone in the dark alley sent shivers down my spine -> Fear\n",
                "School begins tomorrow -> No explicit emotion\n",
                "Time flies like an arrow ->\n",
                "\"\"\"\n",
                "\n",
                "response = get_response(prompt)\n",
                "print(response)\n"
            ]
        },
        {
            "cell_type": "markdown",
            "metadata": {},
            "source": [
                "## Prompt Engineering for Business Applications\n",
                "\n",
                "### Market research report summarization\n",
                "\n",
                "A market research firm needs to analyze and summarize lengthy reports on\n",
                "market trends and customer behavior. They want to know how AI and data\n",
                "privacy are shaping the market and how they're affecting customers. You\n",
                "are provided with a `report` string about markets trends and how they're\n",
                "affecting customer behavior. Your goal is to craft a prompt to summarize\n",
                "it while focusing on aspects related to AI and data privacy to see their\n",
                "effect on customers.\n",
                "\n",
                "The `OpenAI` package, the `report` string, and the `get_response()`\n",
                "function have been pre-loaded for you.\n",
                "\n",
                "**Instructions**\n",
                "\n",
                "- Set your API key to `api_key` within the `OpenAI()` class.\n",
                "- Craft a prompt that summarizes the `report` in **maximum five\n",
                "  sentences**, while focusing on aspects related to **AI and data\n",
                "  privacy** using an f-string.\n",
                "\n",
                "**Answer**\n"
            ]
        },
        {
            "cell_type": "code",
            "execution_count": 24,
            "metadata": {},
            "outputs": [],
            "source": [
                "# added/edited\n",
                "report = \"\\nTitle: Market Trends and Customer Behavior Analysis\\n\\nUnderstanding customer behavior is vital for businesses to remain competitive and relevant in today's dynamic market. This report explores recent trends and shifts in customer behavior, focusing on key drivers of change. The insights aim to assist businesses in making informed decisions and adapting strategies to meet evolving customer demands.\\n\\n1. Introduction:\\n\\n1.1 Background:\\nThe analysis of customer behavior has evolved significantly due to technological advancements, data analytics, and changing consumer preferences. To stay competitive, businesses must continuously monitor and adapt to these shifting trends.\\n\\n1.2 Objective:\\nThis report provides a comprehensive overview of research trends and changes in customer behavior, with a particular focus on the following key areas:\\n\\n2. AI and Data Privacy:\\n\\nArtificial Intelligence (AI) is transforming customer service and engagement. Companies are increasingly implementing chatbots and virtual assistants to automate customer support. Predictive analytics, powered by AI, allows businesses to forecast customer behavior, making informed decisions. However, the growing concern for data privacy, spurred by regulations like GDPR and CCPA, is impacting how companies handle customer data. Strengthening cybersecurity measures is crucial to protect customer data from cyber threats and breaches.\\n\\n3. E-commerce and Digital Transformation:\\n\\nE-commerce has experienced significant growth, accelerated by the COVID-19 pandemic. Key trends include a shift towards mobile online shopping, the integration of shopping features into social media platforms (social commerce), and the use of augmented reality (AR) and virtual reality (VR) for immersive shopping experiences.\\n\\n4. Personalization and Customer Experience:\\n\\nCustomers now expect highly personalized experiences, driving the emergence of AI-driven personalization. Omni-channel experiences that seamlessly connect online and offline interactions are increasingly important. Voice commerce, facilitated by voice-activated devices like smart speakers, is also on the rise.\\n\\n5. Sustainability and Ethical Consumption:\\n\\nConsumer awareness of environmental and ethical issues is influencing buying habits. This trend is reflected in the growing demand for eco-friendly products that are sustainable, recyclable, and biodegradable. Consumers are also favoring brands that demonstrate responsible sourcing and ethical production practices.\\n\\n6. Mobile-First Approach:\\n\\nThe widespread use of smartphones has transformed customer-business interactions. As a result, companies are heavily investing in mobile apps to provide convenience and enhance engagement. Mobile payments, including contactless methods and digital wallets, are gaining popularity.\\n\\n7. Conclusion:\\n\\nTo remain competitive in today's business landscape, organizations must closely monitor research trends and changes in customer behavior. Adaptation, innovation, and a customer-centric approach are key to success. Businesses should prioritize personalized experiences, sustainable practices, mobile accessibility, and data security to meet evolving customer demands.\\n\\n8. Recommendations:\\n\\nInvest in data analytics and AI to drive personalization and gain deeper customer insights.\\nEmbrace sustainable and ethical practices to align with consumer values and preferences.\\nPrioritize the development of mobile experiences and seamless omni-channel engagement.\\nEnsure strict compliance with data privacy regulations and continuously enhance cybersecurity measures to safeguard customer data.\\n\"\n"
            ]
        },
        {
            "cell_type": "code",
            "execution_count": 25,
            "metadata": {},
            "outputs": [
                {
                    "name": "stdout",
                    "output_type": "stream",
                    "text": [
                        "Summarized report: \n",
                        " The report on Market Trends and Customer Behavior Analysis highlights the significant impact of Artificial Intelligence (AI) on customer service and engagement, with the use of chatbots and predictive analytics. However, the growing concern for data privacy, influenced by regulations like GDPR and CCPA, emphasizes the importance of strengthening cybersecurity measures. The rise of e-commerce, driven by the COVID-19 pandemic, includes trends such as mobile online shopping and social commerce. Personalization through AI-driven experiences and the emphasis on sustainability and ethical consumption are key factors shaping customer behavior. Lastly, businesses are advised to invest in data analytics, prioritize mobile accessibility, and ensure compliance with data privacy regulations to meet evolving customer demands.\n"
                    ]
                }
            ],
            "source": [
                "# Set your API key\n",
                "client = OpenAI()\n",
                "\n",
                "# Craft a prompt to summarize the report\n",
                "prompt = f\"\"\"\n",
                "Summarize the report delimited by triple backticks with a maximum of 5 sentences, while focusing on aspects related to AI and data privacy.\n",
                " ```{report}```\n",
                "\"\"\"\n",
                "\n",
                "response = get_response(prompt)\n",
                "\n",
                "print(\"Summarized report: \\n\", response)\n"
            ]
        },
        {
            "cell_type": "markdown",
            "metadata": {},
            "source": [
                "### Product features summarization\n",
                "\n",
                "An electronics review website wants to provide concise and easy-to-read\n",
                "summaries of product features for its readers, allowing them to compare\n",
                "and evaluate different products quickly. The review website wants to\n",
                "generate bullet-point summaries. They want you to craft a prompt that\n",
                "summarizes a `product_description` for a smartphone.\n",
                "\n",
                "The `OpenAI` package, the `product_description`, and the\n",
                "`get_response()` function have been pre-loaded for you.\n",
                "\n",
                "**Instructions**\n",
                "\n",
                "- Set your API key to `api_key` within the `OpenAI()` class.\n",
                "- Craft a prompt that summarizes the `product_description` in **no more\n",
                "  than five bullet points** while focusing on the product features and\n",
                "  specifications.\n",
                "\n",
                "**Answer**\n"
            ]
        },
        {
            "cell_type": "code",
            "execution_count": 26,
            "metadata": {},
            "outputs": [],
            "source": [
                "# added/edited\n",
                "product_description = \"\\nThe Smartphone XYZ-5000 is a device packed with innovative features to enhance the user experience. Its sleek design and vibrant display make it visually appealing, while the powerful octa-core processor ensures smooth performance and multitasking capabilities.\\nThe XYZ-5000 boasts a high-resolution triple-camera system, combining a 48MP primary lens, a 12MP ultra-wide lens, and a 5MP depth sensor, enabling users to capture stunning photos and videos in various shooting scenarios. The device also supports 4K video recording and comes with advanced image stabilization features.\\nWith a generous 128GB of internal storage, expandable up to 512GB via microSD, users can store a vast collection of media files and apps without worrying about running out of space. The smartphone runs on the latest Android OS and offers seamless integration with various Google services.\\nIn terms of security, the XYZ-5000 features a reliable fingerprint sensor and facial recognition technology for quick and secure unlocking. Additionally, it supports NFC for contactless payments and has a dedicated AI-powered virtual assistant to simplify daily tasks.\\nThe device's long-lasting 4000mAh battery ensures all-day usage, and it supports fast charging, providing hours of power with just a few minutes of charging. The XYZ-5000 is also water and dust resistant, giving users peace of mind in various environments.\\nOverall, the Smartphone XYZ-5000 offers a fantastic combination of style, performance, and advanced features, making it an excellent choice for tech enthusiasts and everyday users alike.\\n\"\n"
            ]
        },
        {
            "cell_type": "code",
            "execution_count": 27,
            "metadata": {},
            "outputs": [
                {
                    "name": "stdout",
                    "output_type": "stream",
                    "text": [
                        "Original description: \n",
                        " \n",
                        "The Smartphone XYZ-5000 is a device packed with innovative features to enhance the user experience. Its sleek design and vibrant display make it visually appealing, while the powerful octa-core processor ensures smooth performance and multitasking capabilities.\n",
                        "The XYZ-5000 boasts a high-resolution triple-camera system, combining a 48MP primary lens, a 12MP ultra-wide lens, and a 5MP depth sensor, enabling users to capture stunning photos and videos in various shooting scenarios. The device also supports 4K video recording and comes with advanced image stabilization features.\n",
                        "With a generous 128GB of internal storage, expandable up to 512GB via microSD, users can store a vast collection of media files and apps without worrying about running out of space. The smartphone runs on the latest Android OS and offers seamless integration with various Google services.\n",
                        "In terms of security, the XYZ-5000 features a reliable fingerprint sensor and facial recognition technology for quick and secure unlocking. Additionally, it supports NFC for contactless payments and has a dedicated AI-powered virtual assistant to simplify daily tasks.\n",
                        "The device's long-lasting 4000mAh battery ensures all-day usage, and it supports fast charging, providing hours of power with just a few minutes of charging. The XYZ-5000 is also water and dust resistant, giving users peace of mind in various environments.\n",
                        "Overall, the Smartphone XYZ-5000 offers a fantastic combination of style, performance, and advanced features, making it an excellent choice for tech enthusiasts and everyday users alike.\n",
                        "\n",
                        "Summarized description: \n",
                        " - Sleek design and vibrant display\n",
                        "- Powerful octa-core processor for smooth performance\n",
                        "- High-resolution triple-camera system with 48MP primary lens\n",
                        "- 128GB internal storage, expandable up to 512GB\n",
                        "- Reliable security features like fingerprint sensor and facial recognition, NFC support, and AI-powered virtual assistant\n"
                    ]
                }
            ],
            "source": [
                "# Set your API key\n",
                "client = OpenAI()\n",
                "\n",
                "# Craft a prompt to summarize the product description\n",
                "prompt = f\"\"\"\n",
                "Summarize the product description delimited by triple backticks, in at most five bullet points while focusing on the product features and specifications\n",
                " ```{product_description}```\n",
                "\"\"\"\n",
                "\n",
                "response = get_response(prompt)\n",
                "\n",
                "print(\"Original description: \\n\", product_description)\n",
                "print(\"Summarized description: \\n\", response)\n"
            ]
        },
        {
            "cell_type": "markdown",
            "metadata": {},
            "source": [
                "### Product description expansion\n",
                "\n",
                "As you continue your work on the electronics review website, you've come\n",
                "across some products that are already summarized but lack a\n",
                "comprehensive description on the product's main page. Your task now is\n",
                "to expand these concise product descriptions into detailed narratives,\n",
                "ensuring that each product has both a full description and a bulleted\n",
                "summary for easy comparison. The complete description should effectively\n",
                "capture the product's unique features, benefits, and potential\n",
                "applications. You will apply your prompt on a smart home security camera\n",
                "represented by its `product_description`.\n",
                "\n",
                "The `OpenAI` package, the `product_description` string, and the\n",
                "`get_response()` function have been pre-loaded for you.\n",
                "\n",
                "**Instructions**\n",
                "\n",
                "- Set your API key to `api_key` within the `OpenAI()` class.\n",
                "- Craft a prompt that expands the `product_description` and writes a\n",
                "  **one paragraph** comprehensive overview capturing the key\n",
                "  information.\n",
                "\n",
                "**Answer**\n"
            ]
        },
        {
            "cell_type": "code",
            "execution_count": 28,
            "metadata": {},
            "outputs": [],
            "source": [
                "# added/edited\n",
                "product_description = '\\nProduct: \"Smart Home Security Camera\"\\n- High-tech security camera with night vision and motion detection.\\n- Easy setup and remote monitoring.\\n- Two-way audio communication for real-time interaction.\\n- Mobile app integration for convenient control and alerts.\\n- Weather-resistant design for both indoor and outdoor use.\\n- Smart AI algorithms for advanced person and object detection.\\n- Cloud storage and local backup options for recorded footage.\\n- Infrared LEDs for clear imaging even in complete darkness.\\n- Customizable motion zones to focus on specific areas.\\n- Compatibility with voice assistants for hands-free control.\\n'\n"
            ]
        },
        {
            "cell_type": "code",
            "execution_count": 29,
            "metadata": {},
            "outputs": [
                {
                    "name": "stdout",
                    "output_type": "stream",
                    "text": [
                        "Original description: \n",
                        " \n",
                        "Product: \"Smart Home Security Camera\"\n",
                        "- High-tech security camera with night vision and motion detection.\n",
                        "- Easy setup and remote monitoring.\n",
                        "- Two-way audio communication for real-time interaction.\n",
                        "- Mobile app integration for convenient control and alerts.\n",
                        "- Weather-resistant design for both indoor and outdoor use.\n",
                        "- Smart AI algorithms for advanced person and object detection.\n",
                        "- Cloud storage and local backup options for recorded footage.\n",
                        "- Infrared LEDs for clear imaging even in complete darkness.\n",
                        "- Customizable motion zones to focus on specific areas.\n",
                        "- Compatibility with voice assistants for hands-free control.\n",
                        "\n",
                        "Expanded description: \n",
                        " The Smart Home Security Camera is a cutting-edge device equipped with night vision, motion detection, and two-way audio communication for real-time interaction. Its easy setup and remote monitoring capabilities make it convenient to use, while the mobile app integration allows for control and alerts on the go. The weather-resistant design enables both indoor and outdoor use, and smart AI algorithms provide advanced person and object detection. With options for cloud storage and local backup, users can securely store recorded footage. The camera's infrared LEDs ensure clear imaging even in complete darkness, and customizable motion zones allow for focusing on specific areas of interest. Additionally, compatibility with voice assistants offers hands-free control for added convenience. Perfect for enhancing home security, monitoring pets, or keeping an eye on children, the Smart Home Security Camera is a versatile and reliable choice for peace of mind.\n"
                    ]
                }
            ],
            "source": [
                "# Set your API key\n",
                "client = OpenAI()\n",
                "\n",
                "# Craft a prompt to expand the product's description\n",
                "prompt = f\"\"\"\n",
                "Expand the product description for the Smart Home Security Camera delimited by triple backticks to provide a comprehensive overview of its features, benefits, potential applications, without bypassing the limit of one paragraph. \n",
                " ```{product_description}```\n",
                "\"\"\"\n",
                "\n",
                "response = get_response(prompt)\n",
                "\n",
                "print(\"Original description: \\n\", product_description)\n",
                "print(\"Expanded description: \\n\", response)\n"
            ]
        },
        {
            "cell_type": "markdown",
            "metadata": {},
            "source": [
                "### Translation for multilingual communication\n",
                "\n",
                "A multinational company wants to expand its reach to more international\n",
                "markets. They need a language translation solution to convert their\n",
                "product descriptions and marketing materials into multiple languages.\n",
                "These will then be verified before being published.\n",
                "\n",
                "Your task is to design a prompt that translates text from one language\n",
                "to multiple other languages, facilitating effective communication with\n",
                "customers worldwide. You will apply your prompt on a provided\n",
                "`marketing_message` that introduces their latest collection of premium\n",
                "leather handbags.\n",
                "\n",
                "The `OpenAI` package, the `marketing_message` string, and the\n",
                "`get_response()` function have been pre-loaded for you.\n",
                "\n",
                "**Instructions**\n",
                "\n",
                "- Set your API key to `api_key` within the `OpenAI()` class.\n",
                "- Craft a prompt that translates the `marketing_message` from English to\n",
                "  French, Spanish, and Japanese.\n",
                "\n",
                "**Answer**\n"
            ]
        },
        {
            "cell_type": "code",
            "execution_count": 30,
            "metadata": {},
            "outputs": [],
            "source": [
                "# added/edited\n",
                "marketing_message = 'Introducing our latest collection of premium leather handbags. Each bag is meticulously crafted using the finest leather, ensuring durability and elegance. With a variety of designs and colors, our handbags are perfect for any occasion. Shop now and experience the epitome of style and quality.'\n"
            ]
        },
        {
            "cell_type": "code",
            "execution_count": 31,
            "metadata": {},
            "outputs": [],
            "source": [
                "# Set your API key\n",
                "client = OpenAI()\n",
                "\n",
                "# Craft a prompt that translates\n",
                "prompt = f\"\"\"Translate the English marketing message delimited by triple backticks to French, Spanish, and Japanese\n",
                " ```{marketing_message}```\n",
                "\"\"\"\n",
                "\n",
                "response = get_response(prompt)\n",
                "\n",
                "print(\"English:\", marketing_message)\n",
                "print(response)\n"
            ]
        },
        {
            "cell_type": "markdown",
            "metadata": {},
            "source": [
                "### Tone adjustment for email marketing\n",
                "\n",
                "An e-commerce company regularly conducts email marketing campaigns to\n",
                "promote its products, inform customers about new arrivals, and offer\n",
                "exclusive deals. The company has a hypothesis that their current\n",
                "strategy is too informal and they want to test out how tone adjustment\n",
                "to their emails could help boost customer engagement.\n",
                "\n",
                "Your task is to craft a prompt that can effectively transform the tone\n",
                "of marketing emails. You will apply your prompt on the `sample_email`\n",
                "provided.\n",
                "\n",
                "The `OpenAI` package, the `sample_email` string, and the\n",
                "`get_response()` function have been pre-loaded for you.\n",
                "\n",
                "**Instructions**\n",
                "\n",
                "- Set your API key to `api_key` within the `OpenAI()` class.\n",
                "- Craft a prompt that transforms the `sample_email` by changing its tone\n",
                "  to be professional, positive, and user-centric.\n",
                "\n",
                "**Answer**\n"
            ]
        },
        {
            "cell_type": "code",
            "execution_count": null,
            "metadata": {},
            "outputs": [],
            "source": [
                "# added/edited\n",
                "sample_email = \"\\nSubject: Check out our latest products!\\n\\nDear Customer,\\n\\nWe are excited to introduce our latest product line that includes a wide range of items to suit your needs. Whether you're looking for electronics, home appliances, or fashion accessories, we have it all!\\n\\nHurry and visit our website to explore the fantastic deals and discounts we have for you. Don't miss out on the opportunity to get the best products at unbeatable prices.\\n\\nThank you for being a valued customer, and we look forward to serving you soon!\\n\\nBest regards,\\nThe Marketing Team\\n\"\n"
            ]
        },
        {
            "cell_type": "code",
            "execution_count": null,
            "metadata": {},
            "outputs": [
                {
                    "name": "stdout",
                    "output_type": "stream",
                    "text": [
                        "Before transformation: \n",
                        " \n",
                        "Subject: Check out our latest products!\n",
                        "\n",
                        "Dear Customer,\n",
                        "\n",
                        "We are excited to introduce our latest product line that includes a wide range of items to suit your needs. Whether you're looking for electronics, home appliances, or fashion accessories, we have it all!\n",
                        "\n",
                        "Hurry and visit our website to explore the fantastic deals and discounts we have for you. Don't miss out on the opportunity to get the best products at unbeatable prices.\n",
                        "\n",
                        "Thank you for being a valued customer, and we look forward to serving you soon!\n",
                        "\n",
                        "Best regards,\n",
                        "The Marketing Team\n",
                        "\n",
                        "After transformation: \n",
                        " Subject: Check out our latest products!\n",
                        "\n",
                        "Dear Customer,\n",
                        "\n",
                        "We are thrilled to share with you our newest product line, featuring a diverse selection of items tailored to meet your needs. Whether you're in search of electronics, home appliances, or fashion accessories, we have something for everyone!\n",
                        "\n",
                        "We invite you to visit our website to discover the incredible deals and discounts we have in store for you. Take advantage of this opportunity to acquire top-quality products at unmatched prices.\n",
                        "\n",
                        "Thank you for choosing us as your trusted provider. We are committed to delivering exceptional service and products that exceed your expectations.\n",
                        "\n",
                        "We appreciate your continued support and look forward to serving you soon!\n",
                        "\n",
                        "Best regards,\n",
                        "The Marketing Team\n"
                    ]
                }
            ],
            "source": [
                "# Set your API key\n",
                "client = OpenAI()\n",
                "\n",
                "# Craft a prompt to change the email's tone\n",
                "prompt = f\"\"\"\n",
                "Write the email delimited by triple backticks using a professional, positive, and user-centric tone:\n",
                " ```{sample_email}```\n",
                "\"\"\"\n",
                "\n",
                "response = get_response(prompt)\n",
                "\n",
                "print(\"Before transformation: \\n\", sample_email)\n",
                "print(\"After transformation: \\n\", response)\n"
            ]
        },
        {
            "cell_type": "markdown",
            "metadata": {},
            "source": [
                "### Writing improvement\n",
                "\n",
                "A popular online community relies on user-generated content to thrive.\n",
                "Users frequently contribute reviews, articles, and comments, but the\n",
                "quality of these contributions varies. To elevate the overall experience\n",
                "for its members, the community aims to enhance user-generated texts.\n",
                "This includes fixing grammar errors and refining writing tones to create\n",
                "a more polished and engaging environment for all users. Your task is to\n",
                "build a multi-step prompt that proofreads and adjusts the tone of a\n",
                "given `text`.\n",
                "\n",
                "The `OpenAI` package, the `text` string to operate on, and the\n",
                "`get_response()` function have been pre-loaded for you.\n",
                "\n",
                "**Instructions**\n",
                "\n",
                "- Set your API key to `api_key` within the `OpenAI()` class.\n",
                "- Craft a multi-step prompt that proofreads the text without changing\n",
                "  its structure and adjusts its tone to be formal and friendly.\n",
                "\n",
                "**Answer**\n"
            ]
        },
        {
            "cell_type": "code",
            "execution_count": null,
            "metadata": {},
            "outputs": [],
            "source": [
                "text = \"\\nHey guys, wanna know a cool trick? Here's how u can up your productivity game! First, download this awesome app, it's like the best thing ever! Then, just start using it and u'll see the difference. Its super easy and fun, trust me! So, what are u waiting for? Try it out now!\\n\"\n"
            ]
        },
        {
            "cell_type": "code",
            "execution_count": null,
            "metadata": {},
            "outputs": [
                {
                    "ename": "TypeError",
                    "evalue": "get_response() missing 1 required positional argument: 'user_prompt'",
                    "output_type": "error",
                    "traceback": [
                        "\u001b[0;31m---------------------------------------------------------------------------\u001b[0m",
                        "\u001b[0;31mTypeError\u001b[0m                                 Traceback (most recent call last)",
                        "Cell \u001b[0;32mIn[68], line 10\u001b[0m\n\u001b[1;32m      4\u001b[0m \u001b[38;5;66;03m# Craft a prompt to transform the text\u001b[39;00m\n\u001b[1;32m      5\u001b[0m prompt \u001b[38;5;241m=\u001b[39m \u001b[38;5;124mf\u001b[39m\u001b[38;5;124m\"\"\"\u001b[39m\u001b[38;5;124mTransform the text delimited by triple backticks with the following two steps:\u001b[39m\n\u001b[1;32m      6\u001b[0m \u001b[38;5;124mStep 1 - Proofread it without changing its structure\u001b[39m\n\u001b[1;32m      7\u001b[0m \u001b[38;5;124mStep 2 - Change the tone to be formal and friendly\u001b[39m\n\u001b[1;32m      8\u001b[0m \u001b[38;5;124m ```\u001b[39m\u001b[38;5;132;01m{\u001b[39;00mtext\u001b[38;5;132;01m}\u001b[39;00m\u001b[38;5;124m```\u001b[39m\u001b[38;5;124m\"\"\"\u001b[39m\n\u001b[0;32m---> 10\u001b[0m response \u001b[38;5;241m=\u001b[39m \u001b[43mget_response\u001b[49m\u001b[43m(\u001b[49m\u001b[43mprompt\u001b[49m\u001b[43m)\u001b[49m\n\u001b[1;32m     12\u001b[0m \u001b[38;5;28mprint\u001b[39m(\u001b[38;5;124m\"\u001b[39m\u001b[38;5;124mBefore transformation:\u001b[39m\u001b[38;5;130;01m\\n\u001b[39;00m\u001b[38;5;124m\"\u001b[39m, text)\n\u001b[1;32m     13\u001b[0m \u001b[38;5;28mprint\u001b[39m(\u001b[38;5;124m\"\u001b[39m\u001b[38;5;124mAfter transformation:\u001b[39m\u001b[38;5;130;01m\\n\u001b[39;00m\u001b[38;5;124m\"\u001b[39m, response)\n",
                        "\u001b[0;31mTypeError\u001b[0m: get_response() missing 1 required positional argument: 'user_prompt'"
                    ]
                }
            ],
            "source": [
                "# Set your API key\n",
                "client = OpenAI()\n",
                "\n",
                "# Craft a prompt to transform the text\n",
                "prompt = f\"\"\"Transform the text delimited by triple backticks with the following two steps:\n",
                "Step 1 - Proofread it without changing its structure\n",
                "Step 2 - Change the tone to be formal and friendly\n",
                " ```{text}```\"\"\"\n",
                "\n",
                "response = get_response(prompt)\n",
                "\n",
                "print(\"Before transformation:\\n\", text)\n",
                "print(\"After transformation:\\n\", response)\n"
            ]
        },
        {
            "cell_type": "markdown",
            "metadata": {},
            "source": [
                "### Customer support ticket routing\n",
                "\n",
                "A large customer support team receives many tickets related to different\n",
                "business areas, such as technical issues, billing inquiries, and product\n",
                "feedback. Your task is to create a prompt that automatically classifies\n",
                "incoming tickets into these three groups and routes them to the\n",
                "appropriate support specialists, reducing response times and enhancing\n",
                "customer satisfaction. You will test your prompt on a provided sample\n",
                "`ticket`.\n",
                "\n",
                "The `OpenAI` package, the `ticket` string, and the `get_response()`\n",
                "function have been pre-loaded for you.\n",
                "\n",
                "**Instructions**\n",
                "\n",
                "- Set your API key to `api_key` within the `OpenAI()` class.\n",
                "- Craft a prompt that classifies the `ticket` as technical issue,\n",
                "  billing inquiry, or product feedback, without providing anything else\n",
                "  in the response.\n",
                "\n",
                "**Answer**\n"
            ]
        },
        {
            "cell_type": "code",
            "execution_count": null,
            "metadata": {},
            "outputs": [],
            "source": [
                "# added/edited\n",
                "ticket = '\\nSubject: Urgent - Login Error\\n\\nHi Support Team,\\n\\nI\\'m having trouble accessing my account with the username \"example_user.\" Every time I try to log in, I encounter an error message. I\\'ve already attempted to reset my password, but the issue persists. I need to resolve this problem urgently, as I have pending tasks that require immediate attention.\\n\\nPlease investigate and assist promptly.\\n\\nThanks,\\nJohn.\\n'\n"
            ]
        },
        {
            "cell_type": "code",
            "execution_count": null,
            "metadata": {},
            "outputs": [
                {
                    "name": "stdout",
                    "output_type": "stream",
                    "text": [
                        "Ticket:  \n",
                        "Subject: Urgent - Login Error\n",
                        "\n",
                        "Hi Support Team,\n",
                        "\n",
                        "I'm having trouble accessing my account with the username \"example_user.\" Every time I try to log in, I encounter an error message. I've already attempted to reset my password, but the issue persists. I need to resolve this problem urgently, as I have pending tasks that require immediate attention.\n",
                        "\n",
                        "Please investigate and assist promptly.\n",
                        "\n",
                        "Thanks,\n",
                        "John.\n",
                        "\n",
                        "Class:  Technical issue\n"
                    ]
                }
            ],
            "source": [
                "# Set your API key\n",
                "client = OpenAI()\n",
                "\n",
                "# Craft a prompt to classify the ticket\n",
                "prompt = f\"\"\"Classify the ticket delimited by triple backticks as technical issue, billing inquiry, or product feedback. Your response should just contain the class and nothing else.\n",
                " ```{ticket}```\"\"\"\n",
                "\n",
                "response = get_response(prompt)\n",
                "\n",
                "print(\"Ticket: \", ticket)\n",
                "print(\"Class: \", response)\n"
            ]
        },
        {
            "cell_type": "markdown",
            "metadata": {},
            "source": [
                "### Customer support ticket analysis\n",
                "\n",
                "Not only does a customer support team receive tickets related to\n",
                "different business areas, but the inquiries also come through various\n",
                "channels, such as email, chat, and social media. The company wants to\n",
                "automatically extract key entities from customer support tickets to\n",
                "categorize and prioritize them appropriately to provide better support.\n",
                "Your job is to craft a few-shot prompt that helps them achieve that.\n",
                "\n",
                "You have three sample tickets (`ticket_1`, `ticket_2`, and `ticket_3`)\n",
                "and their corresponding entities (`entities_1`, `entities_2`, and\n",
                "`entities_3`) to inform the model what to look for and how to display\n",
                "it. You need the model to extract entities from the new `ticket_4`\n",
                "string.\n",
                "\n",
                "The `OpenAI` package, the `ticket_4` string, and the `get_response()`\n",
                "function have been pre-loaded for you. Also, you have access to the\n",
                "ticket and entity variables previously mentioned.\n",
                "\n",
                "**Instructions**\n",
                "\n",
                "- Set your API key to `api_key` within the `OpenAI()` class.\n",
                "- Craft a few-shot prompt that uses three tickets and corresponding\n",
                "  entities, to extract entities from the new ticket `ticket_4`.\n",
                "\n",
                "**Answer**\n"
            ]
        },
        {
            "cell_type": "code",
            "execution_count": null,
            "metadata": {},
            "outputs": [],
            "source": [
                "# added/edited\n",
                "ticket_1 = \"Hi there! My name is John Smith, and I am experiencing issues with your premium software, XYZ Pro. My license key is ABC12345. I purchased it last week, but it's not activating properly on my computer.\"\n",
                "ticket_2 = 'Dear support team, I am writing to inquire about the delivery status of my order. My name is Jane Doe, and I placed an order for a laptop on your website two days ago. The order number is ORD56789. Can you please provide an update on the delivery?'\n",
                "ticket_3 = 'Hello, I am having trouble accessing my account on your mobile app. My name is Alex Johnson, and I have a subscription for your Gold Plan. Can you help me resolve this issue?'\n",
                "ticket_4 = 'Greetings, I am facing technical difficulties with your software, ABC Editor. My name is Sarah Lee, and I recently upgraded to the latest version. However, whenever I try to save my work, the software crashes. Can you please help me resolve this problem?'\n",
                "entities_1 = '\\n* Customer Details:\\n  - Name: John Smith\\n  - License Key: ABC12345\\n* Product/Service Mentions:\\n  - Product: XYZ Pro (premium software)\\n'\n",
                "entities_2 = '\\n* Customer Details:\\n  - Name: Jane Doe\\n* Product/Service Mentions:\\n  - Product: laptop'\n",
                "entities_3 = '\\n* Customer Details:\\n  - Name: Alex Johnson\\n* Product/Service Mentions:\\n  - Product: mobile app\\n  - Service: Gold Plan'\n"
            ]
        },
        {
            "cell_type": "code",
            "execution_count": null,
            "metadata": {},
            "outputs": [
                {
                    "name": "stdout",
                    "output_type": "stream",
                    "text": [
                        "Ticket:  Greetings, I am facing technical difficulties with your software, ABC Editor. My name is Sarah Lee, and I recently upgraded to the latest version. However, whenever I try to save my work, the software crashes. Can you please help me resolve this problem?\n",
                        "Entities:  * Customer Details:\n",
                        "  - Name: Sarah Lee\n",
                        "* Product/Service Mentions:\n",
                        "  - Product: ABC Editor (software)\n"
                    ]
                }
            ],
            "source": [
                "# Set your API key\n",
                "client = OpenAI()\n",
                "\n",
                "# Craft a few-shot prompt to get the ticket's entities\n",
                "prompt = f\"\"\"Ticket: {ticket_1} -> Entities: {entities_1}\n",
                "            Ticket: {ticket_2} -> Entities: {entities_2}\n",
                "            Ticket: {ticket_3} -> Entities: {entities_3}\n",
                "            Ticket: {ticket_4} -> Entities: \"\"\"\n",
                "\n",
                "response = get_response(prompt)\n",
                "\n",
                "print(\"Ticket: \", ticket_4)\n",
                "print(\"Entities: \", response)\n"
            ]
        },
        {
            "cell_type": "markdown",
            "metadata": {},
            "source": [
                "### Code generation with problem description\n",
                "\n",
                "You work as an analyst for a retail company and analyze monthly sales\n",
                "data. You need to develop a Python function that accepts a list of 12\n",
                "numbers representing sales for each month of the year and outputs the\n",
                "month with the highest sales value. This information will help your\n",
                "company identify the most profitable month. You feed the problem\n",
                "description to a language model to get help. You will then check the\n",
                "code to ensure it's correct for use.\n",
                "\n",
                "The `OpenAI` package and the `get_response()` function have been\n",
                "pre-loaded for you.\n",
                "\n",
                "**Instructions**\n",
                "\n",
                "- Set your API key to `api_key` within the `OpenAI()` class.\n",
                "- Craft a prompt that asks the model to write a Python function that\n",
                "  receives a list of 12 floats representing monthly sales data as input\n",
                "  and, returns the month with the highest sales value as output.\n",
                "\n",
                "**Answer**\n"
            ]
        },
        {
            "cell_type": "code",
            "execution_count": null,
            "metadata": {},
            "outputs": [
                {
                    "name": "stdout",
                    "output_type": "stream",
                    "text": [
                        "Here is a Python function that does this:\n",
                        "\n",
                        "```python\n",
                        "def highest_sales_month(sales):\n",
                        "    months = ['January', 'February', 'March', 'April', 'May', 'June', 'July', 'August', 'September', 'October', 'November', 'December']\n",
                        "    max_sales = max(sales)\n",
                        "    max_index = sales.index(max_sales)\n",
                        "    return months[max_index]\n",
                        "\n",
                        "# Example usage\n",
                        "sales = [1000, 1500, 2000, 1800, 2500, 2200, 1900, 2100, 2300, 2400, 2600, 2700]\n",
                        "print(highest_sales_month(sales))  # Output: December\n",
                        "```\n",
                        "\n",
                        "This function first creates a list of month names. It then finds the maximum sales value in the input list and gets the index of that value. Finally, it returns the month corresponding to that index.\n"
                    ]
                }
            ],
            "source": [
                "# Set your API key\n",
                "client = OpenAI()\n",
                "\n",
                "# Craft a prompt that asks the model for the function\n",
                "prompt = \"Write a Python function that accepts a list of 12 numbers representing sales for each month of the year, and outputs the month with the highest sales value\"\n",
                "\n",
                "response = get_response(prompt)\n",
                "print(response)\n"
            ]
        },
        {
            "cell_type": "markdown",
            "metadata": {},
            "source": [
                "### Input-output examples for code generation\n",
                "\n",
                "You work as a project manager and need to estimate the time it will take\n",
                "to complete different projects. Your task is to develop a Python\n",
                "function that can predict the estimated completion time for a project\n",
                "based on historical data. You are given a set of examples in the\n",
                "`examples` string where different factors are associated with project\n",
                "completion time. Each example includes the factors' numerical values and\n",
                "the corresponding estimated completion time. You decide to prompt the\n",
                "language model to help you identify the underlying pattern that maps the\n",
                "inputs to the outputs and provides the code for the function. As always,\n",
                "you'll verify the correctness of the code before using it.\n",
                "\n",
                "The `OpenAI` package and the `get_response()` function have been\n",
                "pre-loaded for you.\n",
                "\n",
                "**Instructions**\n",
                "\n",
                "- Set your API key to `api_key` within the `OpenAI()` class.\n",
                "- Craft a prompt that asks the model to infer the Python function that\n",
                "  maps the inputs to the outputs in the provided `examples`.\n",
                "\n",
                "**Answer**\n"
            ]
        },
        {
            "cell_type": "code",
            "execution_count": null,
            "metadata": {},
            "outputs": [
                {
                    "name": "stdout",
                    "output_type": "stream",
                    "text": [
                        "def project_completion_time(input_factors):\n",
                        "    return sum(input_factors)\n",
                        "\n",
                        "# Test the function with the provided examples\n",
                        "print(project_completion_time([10, 5, 8]))  # Output: 24\n",
                        "print(project_completion_time([5, 2, 4]))   # Output: 12\n",
                        "print(project_completion_time([2, 1, 3]))   # Output: 7\n",
                        "print(project_completion_time([8, 4, 6]))   # Output: 19\n"
                    ]
                }
            ],
            "source": [
                "# Set your API key\n",
                "client = OpenAI()\n",
                "\n",
                "examples=\"\"\"input = [10, 5, 8] -> output = 24\n",
                "input = [5, 2, 4] -> output = 12\n",
                "input = [2, 1, 3] -> output = 7\n",
                "input = [8, 4, 6] -> output = 19\n",
                "\"\"\"\n",
                "\n",
                "# Craft a prompt that asks the model for the function\n",
                "prompt = f\"\"\"You are provided with input-output examples delimited by triple backticks for a Python function where different factors are associated with project completion time. Each example includes numerical values for the factors and the corresponding estimated completion time. Write a code for this function.\n",
                " ```{examples}```\"\"\"\n",
                "\n",
                "response = get_response(prompt)\n",
                "print(response)\n"
            ]
        },
        {
            "cell_type": "markdown",
            "metadata": {},
            "source": [
                "### Modifying code with multi-step prompts\n",
                "\n",
                "You are a home improvement contractor specializing in flooring\n",
                "installations. You need to develop a Python function that calculates the\n",
                "area and perimeter of a rectangular floor in a room to help you\n",
                "determine the amount of flooring material required for the project.\n",
                "\n",
                "You are given a string named `function`, which contains a starter\n",
                "function that calculates the area of a rectangular floor given its width\n",
                "and length. Using a multi-step prompt, you need to prompt the language\n",
                "model to modify this function to return the perimeter of the rectangle\n",
                "as well, and to test if the inputs (floor dimensions) are positive, and\n",
                "if not, display appropriate error messages.\n",
                "\n",
                "The `OpenAI` package, the `function` string, and the `get_response()`\n",
                "function have been pre-loaded for you.\n",
                "\n",
                "**Instructions**\n",
                "\n",
                "- Set your API key to `api_key` within the `OpenAI()` class.\n",
                "- Craft a multi-step prompt that asks the model to modify the `function`\n",
                "  according to the specified requirements.\n",
                "\n",
                "**Answer**\n"
            ]
        },
        {
            "cell_type": "code",
            "execution_count": null,
            "metadata": {},
            "outputs": [
                {
                    "name": "stdout",
                    "output_type": "stream",
                    "text": [
                        "```python\n",
                        "def calculate_area_and_perimeter_rectangular_floor(width, length):\n",
                        "    if width <= 0 or length <= 0:\n",
                        "        return \"Error: Dimensions must be positive\"\n",
                        "    area = width * length\n",
                        "    perimeter = 2 * (width + length)\n",
                        "    return area, perimeter\n",
                        "```\n"
                    ]
                }
            ],
            "source": [
                "# Set your API key\n",
                "client = OpenAI()\n",
                "\n",
                "function = \"\"\"def calculate_area_rectangular_floor(width, length):\n",
                "     return width*length\"\"\"\n",
                "\n",
                "# Craft a multi-step prompt that asks the model to adjust the function\n",
                "prompt = f\"\"\"Modify the script delimited by triple backticks as follows:\n",
                "             - The function should return the perimeter of the rectangular floor as well.\n",
                "             - The inputs (floor dimensions) should be positive. Otherwise, appropriate error messages should be displayed.\n",
                "           ```{function}```\"\"\"\n",
                "\n",
                "response = get_response(prompt)\n",
                "print(response)\n"
            ]
        },
        {
            "cell_type": "markdown",
            "metadata": {},
            "source": [
                "### Explaining code step by step\n",
                "\n",
                "As a financial analyst at a consulting firm, you're tasked with\n",
                "analyzing investment portfolios and providing insights to clients. While\n",
                "reviewing a set of financial data files, you come across a Python\n",
                "`function` that seems related to analyzing portfolios, but you're unsure\n",
                "of its exact purpose. You decide to use chain-of-thought prompting to\n",
                "let the language model decipher it step by step.\n",
                "\n",
                "The `OpenAI` package, the `function` string, and the `get_response()`\n",
                "function have been pre-loaded for you.\n",
                "\n",
                "**Instructions**\n",
                "\n",
                "- Set your API key to `api_key` within the `OpenAI()` class.\n",
                "- Craft a chain-of-thought prompt that asks the model to explain the\n",
                "  provided `function`.\n",
                "\n",
                "**Answer**\n"
            ]
        },
        {
            "cell_type": "code",
            "execution_count": null,
            "metadata": {},
            "outputs": [],
            "source": [
                "function = \"\\ndef analyze_portfolio(portfolio_data):\\n  total_value = 0\\n  highest_value = 0\\n  lowest_value = float('inf')\\n  \\n  for entry in portfolio_data:\\n    total_value += entry[1]\\n    if entry[1] > highest_value:\\n        highest_value = entry[1]\\n    if entry[1] < lowest_value:\\n        lowest_value = entry[1]\\n\\n  average_value = total_value / len(portfolio_data)\\n  return highest_value, lowest_value, average_value\\n  \\n\"\n"
            ]
        },
        {
            "cell_type": "code",
            "execution_count": null,
            "metadata": {},
            "outputs": [
                {
                    "name": "stdout",
                    "output_type": "stream",
                    "text": [
                        "The function defined by triple backticks calculates the area of a rectangular floor. \n",
                        "\n",
                        "Step by step explanation:\n",
                        "1. The function is named `calculate_area_rectangular_floor` and takes two parameters: `width` and `length`.\n",
                        "2. Inside the function, it multiplies the `width` and `length` parameters together using the `*` operator.\n",
                        "3. The result of the multiplication is then returned as the output of the function, which is the area of the rectangular floor.\n"
                    ]
                }
            ],
            "source": [
                "# Set your API key\n",
                "client = OpenAI()\n",
                "\n",
                "# Craft a chain-of-thought prompt that asks the model to explain what the function does\n",
                "prompt = f\"\"\"Explain what the function delimited by triple backticks does. Let's think step by step\n",
                " ```{function}```\n",
                "\"\"\"\n",
                " \n",
                "response = get_response(prompt)\n",
                "print(response)\n"
            ]
        },
        {
            "cell_type": "markdown",
            "metadata": {},
            "source": [
                "## Prompt Engineering for Chatbot Development\n",
                "\n",
                "### Creating a dual-prompt get_response() function\n",
                "\n",
                "Since the majority of the following exercises will be based on calling\n",
                "the `chat.completions` endpoint of the OpenAI API with two prompts (a\n",
                "system prompt and a user prompt), in this exercise, you will create a\n",
                "dual-prompt `get_response()` function that receives two prompts as input\n",
                "(`system_prompt` and `user_prompt`) and returns the response as an\n",
                "output. You will then apply this function to any example of your choice.\n",
                "In future exercises, this function will be pre-loaded for you.\n",
                "\n",
                "The `OpenAI` package has been pre-loaded for you.\n",
                "\n",
                "**Instructions**\n",
                "\n",
                "- Set your API key to `api_key` within the `OpenAI()` class.\n",
                "- Assign the role and content of each message in the `messages` list.\n",
                "- Try out the function by passing a `system_prompt` and a `user_prompt`\n",
                "  of your choice.\n",
                "\n",
                "**Answer**\n"
            ]
        },
        {
            "cell_type": "code",
            "execution_count": null,
            "metadata": {},
            "outputs": [
                {
                    "name": "stdout",
                    "output_type": "stream",
                    "text": [
                        "AI, or artificial intelligence, refers to the simulation of human intelligence processes by machines, especially computer systems. This includes learning, reasoning, problem-solving, perception, and language understanding. AI technologies enable machines to perform tasks that typically require human intelligence, such as visual perception, speech recognition, decision-making, and language translation.\n"
                    ]
                }
            ],
            "source": [
                "# Set your API key\n",
                "client = OpenAI()\n",
                "\n",
                "def get_response(system_prompt, user_prompt):\n",
                "  # Assign the role and content for each message\n",
                "  messages = [{\"role\": \"system\", \"content\": system_prompt},\n",
                "          {\"role\": \"user\", \"content\": user_prompt}]  \n",
                "  response = client.chat.completions.create(\n",
                "      model=\"gpt-3.5-turbo\", messages= messages, temperature=0)\n",
                "\n",
                "  return response.choices[0].message.content\n",
                "\n",
                "# Try the function with a system and user prompt of your choice \n",
                "response = get_response(\"You are an expert data scientist that explains complex concepts in understandable terms\", \"Define AI\")\n",
                "print(response)\n"
            ]
        },
        {
            "cell_type": "markdown",
            "metadata": {},
            "source": [
                "### Customer support chatbot\n",
                "\n",
                "You are tasked with developing a customer support chatbot for an\n",
                "e-commerce company specializing in electronics. This chatbot will assist\n",
                "users with inquiries, order tracking, and troubleshooting common issues.\n",
                "You aim to create a system prompt that clearly defines the chatbot's\n",
                "purpose and provides response guidelines that set the tone for\n",
                "interactions and specify the intended audience. A sample user prompt is\n",
                "provided.\n",
                "\n",
                "The `OpenAI` package and the `get_response()` function have been\n",
                "pre-loaded for you.\n",
                "\n",
                "**Instructions**\n",
                "\n",
                "- Set your API key to `api_key` within the `OpenAI()` class.\n",
                "- Write out who this chatbot is for and what it should do and save this\n",
                "  as the `chatbot_purpose`.\n",
                "- Define the target audience as tech-savvy individuals interested in\n",
                "  purchasing electronic gadgets and save to `audience_guidelines`.\n",
                "- Define the `tone_guidelines` that ask the chatbot to use a\n",
                "  professional and user-friendly tone while interacting with customers.\n",
                "\n",
                "**Answer**\n"
            ]
        },
        {
            "cell_type": "code",
            "execution_count": null,
            "metadata": {},
            "outputs": [
                {
                    "name": "stdout",
                    "output_type": "stream",
                    "text": [
                        "I'm sorry to hear that you're experiencing issues with your new headphones. Let's troubleshoot this together. Here are a few steps you can try:\n",
                        "\n",
                        "1. Make sure your headphones are charged or have fresh batteries.\n",
                        "2. Turn off your headphones and then turn them back on.\n",
                        "3. Put your headphones into pairing mode according to the manufacturer's instructions.\n",
                        "4. On your device, go to the Bluetooth settings and look for your headphones in the list of available devices. Select them to pair.\n",
                        "\n",
                        "If you're still having trouble, please provide me with the make and model of your headphones so I can assist you further.\n"
                    ]
                }
            ],
            "source": [
                "# Set your API key\n",
                "client = OpenAI()\n",
                "\n",
                "# Define the purpose of the chatbot\n",
                "chatbot_purpose = \"You are the customer support chatbot for an e-commerce platform specializing in electronics. Your role is to assist customers with inquiries, order tracking, and troubleshooting common issues related to their purchases. \"\n",
                "\n",
                "# Define audience guidelines\n",
                "audience_guidelines = \"Your primary audience consists of tech-savvy individuals who are interested in purchasing electronic gadgets. \"\n",
                "\n",
                "# Define tone guidelines\n",
                "tone_guidelines = \"Maintain a professional and user-friendly tone in your responses.\"\n",
                "\n",
                "base_system_prompt = chatbot_purpose + audience_guidelines + tone_guidelines\n",
                "response = get_response(base_system_prompt, \"My new headphones aren't connecting to my device\")\n",
                "print(response)\n"
            ]
        },
        {
            "cell_type": "markdown",
            "metadata": {},
            "source": [
                "### Behavioral control of a customer support chatbot\n",
                "\n",
                "When the company started using your chatbot from the previous exercise,\n",
                "they realized they wanted it to behave differently. They'd like to\n",
                "incorporate two behavioral conditions. First, they want to refine the\n",
                "customer support chatbot's interactions by asking for an order number if\n",
                "the user is inquiring about an order without providing one. Second, they\n",
                "want the model to express empathy by starting the response with \"I'm\n",
                "sorry to hear about your issue with …\" if the user reports a technical\n",
                "issue.\n",
                "\n",
                "They've assigned this update to you. You need to append these conditions\n",
                "to the `base_system_prompt` that represents the prompt you engineered in\n",
                "the previous exercise and obtain a `refined_system_prompt`. You will\n",
                "test the chatbot on two queries.\n",
                "\n",
                "The `OpenAI` package, the `base_system_prompt` string developed in the\n",
                "previous exercise, and the `get_response()` function have been\n",
                "pre-loaded for you.\n",
                "\n",
                "**Instructions**\n",
                "\n",
                "- Set your API key to `api_key` within the `OpenAI()` class.\n",
                "- Ask the user for their order number if they submitted a query about an\n",
                "  order without specifying an order number; save this to\n",
                "  `order_number_condition`.\n",
                "- Define a `technical_issue_condition` where you tell the model to start\n",
                "  the response with `I'm sorry to hear about your issue with ...` if the\n",
                "  user is reporting a technical issue.\n",
                "- Create the `refined_system_prompt` that combines the\n",
                "  `base_system_prompt` and the two new conditions.\n",
                "\n",
                "**Answer**\n"
            ]
        },
        {
            "cell_type": "code",
            "execution_count": null,
            "metadata": {},
            "outputs": [
                {
                    "name": "stdout",
                    "output_type": "stream",
                    "text": [
                        "Response 1:  I'm sorry to hear about your issue with the laptop screen flickering. This could be due to a variety of reasons such as a loose connection, outdated graphics drivers, or a hardware issue. To better assist you, could you provide me with the make and model of your laptop?\n",
                        "Response 2:  Of course! I'd be happy to help you track your order. Could you please provide me with your order number so I can assist you better?\n"
                    ]
                }
            ],
            "source": [
                "# Set your API key\n",
                "client = OpenAI()\n",
                "\n",
                "# Define the order number condition\n",
                "order_number_condition = \"If the user is asking about an order, and did not specify the order number, reply by asking for this number. \"\n",
                "\n",
                "# Define the technical issue condition\n",
                "technical_issue_condition = \"If the user is talking about a technical issue, start your response with `I'm sorry to hear about your issue with ...` \"\n",
                "\n",
                "# Create the refined system prompt\n",
                "refined_system_prompt = base_system_prompt + order_number_condition + technical_issue_condition\n",
                "\n",
                "response_1 = get_response(refined_system_prompt, \"My laptop screen is flickering. What should I do?\")\n",
                "response_2 = get_response(refined_system_prompt, \"Can you help me track my recent order?\")\n",
                "\n",
                "print(\"Response 1: \", response_1)\n",
                "print(\"Response 2: \", response_2)\n"
            ]
        },
        {
            "cell_type": "markdown",
            "metadata": {},
            "source": [
                "### Learning advisor chatbot\n",
                "\n",
                "You are developing a personalized learning advisor chatbot that\n",
                "recommends textbooks for users. The chatbot's role is to receive queries\n",
                "from learners about their background, experience, and goals, and\n",
                "accordingly, recommends a learning path of textbooks, including both\n",
                "beginner-level and more advanced options. Your job is to create a\n",
                "role-playing `system_prompt` for the textbook recommendation chatbot,\n",
                "highlighting what it is expected to do while interacting with the users.\n",
                "\n",
                "The `OpenAI` package, and the `get_response()` function have been\n",
                "pre-loaded for you.\n",
                "\n",
                "**Instructions**\n",
                "\n",
                "- Set your API key to `api_key` within the `OpenAI()` class.\n",
                "- Define a role-playing `system_prompt` that tells the bot to act as a\n",
                "  learning advisor who can interpret learner queries as described and\n",
                "  provide the relevant textbook recommendations.\n",
                "\n",
                "**Answer**\n"
            ]
        },
        {
            "cell_type": "code",
            "execution_count": null,
            "metadata": {},
            "outputs": [
                {
                    "name": "stdout",
                    "output_type": "stream",
                    "text": [
                        "Hello! It's great to hear about your interest in Python, data analytics, and machine learning. Here's a tailored learning path for you:\n",
                        "\n",
                        "1. **Python**:\n",
                        "   - *Beginner Level*: \"Python Crash Course\" by Eric Matthes is highly recommended for beginners. It covers the basics of Python programming in a clear and engaging way.\n",
                        "   - *Advanced Level*: \"Fluent Python\" by Luciano Ramalho is a great choice to deepen your understanding of Python and learn more advanced concepts.\n",
                        "\n",
                        "2. **Data Analytics**:\n",
                        "   - *Beginner Level*: \"Data Science for Business\" by Foster Provost and Tom Fawcett is a good starting point to understand the fundamentals of data analytics and its applications in business.\n",
                        "   - *Advanced Level*: \"Python for Data Analysis\" by Wes McKinney is a comprehensive guide that focuses on using Python for data analysis tasks.\n",
                        "\n",
                        "3. **Machine Learning**:\n",
                        "   - *Beginner Level*: \"Hands-On Machine Learning with Scikit-Learn, Keras, and TensorFlow\" by Aurélien Géron is a popular choice for beginners to get hands-on experience with machine learning algorithms.\n",
                        "   - *Advanced Level*: \"Pattern Recognition and Machine Learning\" by Christopher Bishop is a more advanced book that delves into the theoretical aspects of machine learning.\n",
                        "\n",
                        "These books will provide you with a solid foundation in Python programming, data analytics, and machine learning. Happy learning!\n"
                    ]
                }
            ],
            "source": [
                "# Set your API key\n",
                "client = OpenAI()\n",
                "\n",
                "# Craft the system_prompt using the role-playing approach\n",
                "system_prompt = \"Act as a learning advisor who receives queries from users mentioning their background, experience, and goals, and accordingly provides a response that recommends a tailored learning path of textbooks, including both beginner-level and more advanced options.\"\n",
                "\n",
                "user_prompt = \"Hello there! I'm a beginner with a marketing background, and I'm really interested in learning about Python, data analytics, and machine learning. Can you recommend some books?\"\n",
                "\n",
                "response = get_response(system_prompt, user_prompt)\n",
                "print(response)\n"
            ]
        },
        {
            "cell_type": "markdown",
            "metadata": {},
            "source": [
                "### Adding guidelines for the learning advisor chatbot\n",
                "\n",
                "In the previous exercise, you built a chatbot to recommend textbooks.\n",
                "However, the company has identified a need for an update to ensure more\n",
                "efficient recommendations. You are provided with a `base_system_prompt`,\n",
                "similar to the one you created previously, and your task is to\n",
                "incorporate `behavior_guidelines` and `response_guidelines`. These\n",
                "guidelines will help control the chatbot's behavior and ensure it offers\n",
                "more effective and tailored textbook recommendations to users.\n",
                "\n",
                "The `OpenAI` package, and the `get_response()` function have been\n",
                "pre-loaded for you.\n",
                "\n",
                "**Instructions**\n",
                "\n",
                "- Set your API key to `api_key` within the `OpenAI()` class.\n",
                "- Define `behavior_guidelines` for the chatbot that allow it to ask a\n",
                "  user about their background, experience, and goals, whenever any of\n",
                "  these is not provided in the prompt.\n",
                "- Define `response_guidelines` to tell the chatbot to recommend no more\n",
                "  than three textbooks.\n",
                "\n",
                "**Answer**\n"
            ]
        },
        {
            "cell_type": "code",
            "execution_count": null,
            "metadata": {},
            "outputs": [
                {
                    "name": "stdout",
                    "output_type": "stream",
                    "text": [
                        "Thank you for your interest in Python and data visualization courses. To provide you with the most suitable recommendations, could you please share some details about your background in programming, experience with Python, and your goals with data visualization? This information will help me tailor the learning path to best suit your needs.\n"
                    ]
                }
            ],
            "source": [
                "# Set your API key\n",
                "client = OpenAI()\n",
                "\n",
                "base_system_prompt = \"Act as a learning advisor who receives queries from users mentioning their background, experience, and goals, and accordingly provides a response that recommends a tailored learning path of textbooks, including both beginner-level and more advanced options.\"\n",
                "\n",
                "# Define behavior guidelines\n",
                "behavior_guidelines = \"If the user's query does not include details about their background, experience, or goals, kindly ask them to provide the missing information.\"\n",
                "\n",
                "# Define response guidelines\n",
                "response_guidelines = \"Don't recommend more than three textbooks in the learning path\"\n",
                "\n",
                "system_prompt = base_system_prompt + behavior_guidelines + response_guidelines\n",
                "user_prompt = \"Hey, I'm looking for courses on Python and data visualization. What do you recommend?\"\n",
                "response = get_response(system_prompt, user_prompt)\n",
                "print(response)\n"
            ]
        },
        {
            "cell_type": "markdown",
            "metadata": {},
            "source": [
                "### Providing context through sample conversations\n",
                "\n",
                "Suppose there is a delivery service named **MyPersonalDelivery** that\n",
                "offers a wide range of delivery options for various items. You want to\n",
                "create a customer service chatbot that supports customers with whatever\n",
                "they need. To accomplish this, you will provide a `context_question` and\n",
                "a `context_answer` about items the company delivers via previous\n",
                "conversations, and you will test if the model recognizes this context\n",
                "through a new user prompt.\n",
                "\n",
                "The `OpenAI` package, the `context_question` and `context_answer`\n",
                "strings have been pre-loaded for you.\n",
                "\n",
                "**Instructions**\n",
                "\n",
                "- Set your API key to `api_key` within the `OpenAI()` class.\n",
                "- Define a `system_prompt` that defines the purpose of the chatbot and\n",
                "  guides it to answer queries in a gentle way.\n",
                "- Use the `system_prompt`, the `context_question`, and `context_answer`\n",
                "  to formulate a conversation that the chatbot can use as context in\n",
                "  order to respond to the new user query.\n",
                "\n",
                "**Answer**\n"
            ]
        },
        {
            "cell_type": "code",
            "execution_count": null,
            "metadata": {},
            "outputs": [
                {
                    "name": "stdout",
                    "output_type": "stream",
                    "text": [
                        "Yes, we do deliver furniture! Whether you need a small side table or a large sofa, we can safely transport your furniture items to your desired location. Just let us know the details, and we'll take care of the delivery for you.\n"
                    ]
                }
            ],
            "source": [
                "# Set your API key\n",
                "client = OpenAI()\n",
                "\n",
                "# Define the system prompt\n",
                "system_prompt = \"You are a customer service chatbot for MyPersonalDelivery, a delivery service that offers a wide range of delivery options for various items. You should respond to user queries in a gentle way.\"\n",
                "\n",
                "context_question = \"What types of items can be delivered using MyPersonalDelivery?\"\n",
                "context_answer = \"We deliver everything from everyday essentials such as groceries, medications, and documents to larger items like electronics, clothing, and furniture. However, please note that we currently do not offer delivery for hazardous materials or extremely fragile items requiring special handling.\"\n",
                "\n",
                "# Add the context to the model\n",
                "response = client.chat.completions.create(\n",
                "  model=\"gpt-3.5-turbo\",\n",
                "  messages=[{\"role\": \"system\", \"content\": system_prompt},\n",
                "            {\"role\": \"user\", \"content\": context_question},\n",
                "            {\"role\": \"assistant\", \"content\": context_answer},\n",
                "            {\"role\": \"user\", \"content\": \"Do you deliver furniture?\"}])\n",
                "response = response.choices[0].message.content\n",
                "print(response)\n"
            ]
        },
        {
            "cell_type": "markdown",
            "metadata": {},
            "source": [
                "### Providing context through system prompt\n",
                "\n",
                "Now you want to use system prompts in order to provide context for the\n",
                "chatbot about **MyPersonalDelivery** instead of relying on sample\n",
                "conversations. You are provided with a detailed `service_description`\n",
                "that introduces the services being offered and the benefits of choosing\n",
                "this service. You will then test a user query to see if the model\n",
                "recognizes the context effectively.\n",
                "\n",
                "The `OpenAI` package and the `service_description` string have been\n",
                "pre-loaded for you.\n",
                "\n",
                "**Instructions**\n",
                "\n",
                "- Set your API key to `api_key` within the `OpenAI()` class.\n",
                "- Define a `system_prompt` that defines the purpose of the chatbot\n",
                "  including the `service_description`, and guides it to answer queries\n",
                "  in a gentle way.\n",
                "- Get the response using the `get_response()` function.\n",
                "\n",
                "**Answer**\n"
            ]
        },
        {
            "cell_type": "code",
            "execution_count": null,
            "metadata": {},
            "outputs": [],
            "source": [
                "# added/edited\n",
                "service_description = \"\\nWelcome to MyPersonalDelivery, your trusted and versatile delivery service partner. At MyPersonalDelivery, we are committed to providing you with a seamless and efficient delivery experience for a wide range of items. Whether you need groceries, documents, electronics, or even furniture, we've got you covered.\\n\\nOur Services:\\nWe offer a diverse range of delivery services to cater to your unique needs. From same-day delivery for urgent items to scheduled deliveries that fit your convenience, we have the flexibility to meet your busy lifestyle. Our real-time tracking system ensures that you can monitor the status of your delivery every step of the way.\\n\\nWhat We Deliver:\\nOur service is designed to handle various items, including everyday essentials such as groceries and medications. Need to send important documents? No problem, we'll ensure they reach their destination securely. We also specialize in transporting larger items like electronics, clothing, and even furniture. However, please note that we currently do not offer delivery for hazardous materials or items that are extremely fragile and require special handling.\\n\\nSafety and Care:\\nYour items' safety is our top priority. We take pride in our secure handling practices to ensure that your deliveries arrive intact. Our contactless delivery option minimizes physical contact, adding an extra layer of safety during these times. We understand that each item is valuable, and you can trust us to treat your belongings with the utmost care.\\n\\nWhy Choose MyPersonalDelivery:\\n- Wide variety of items delivered\\n- Flexible delivery options\\n- Real-time tracking for peace of mind\\n- Secure handling and contactless delivery\\n- Reliable service with a commitment to excellence\\n\\nWhether you need a small package delivered across town or a larger item transported across the city, you can rely on MyPersonalDelivery to provide a reliable, secure, and efficient delivery solution. Your satisfaction is our driving force, and we look forward to serving you with our dedicated and customer-centric approach.\\n\\nFeel free to ask any questions you may have about our services, and we'll be more than happy to assist you.\\n\\n\"\n"
            ]
        },
        {
            "cell_type": "code",
            "execution_count": null,
            "metadata": {},
            "outputs": [
                {
                    "name": "stdout",
                    "output_type": "stream",
                    "text": [
                        "At MyPersonalDelivery, we offer a range of benefits to ensure a seamless and efficient delivery experience for our customers. Some of the key benefits include:\n",
                        "\n",
                        "1. Wide variety of items delivered: From groceries to furniture, we handle a diverse range of items to meet your delivery needs.\n",
                        "\n",
                        "2. Flexible delivery options: Whether you need same-day delivery or scheduled deliveries, we provide flexibility to fit your busy lifestyle.\n",
                        "\n",
                        "3. Real-time tracking: Our tracking system allows you to monitor the status of your delivery every step of the way, giving you peace of mind.\n",
                        "\n",
                        "4. Secure handling and contactless delivery: We prioritize the safety of your items with secure handling practices and offer contactless delivery options for added safety.\n",
                        "\n",
                        "5. Reliable service with a commitment to excellence: Our dedicated team is committed to providing reliable and excellent service to ensure your satisfaction.\n",
                        "\n",
                        "These benefits, along with our customer-centric approach, make MyPersonalDelivery a trusted and versatile delivery service partner. If you have any more questions or need further assistance, feel free to ask!\n"
                    ]
                }
            ],
            "source": [
                "# Set your API key\n",
                "client = OpenAI()\n",
                "\n",
                "# Define the system prompt\n",
                "system_prompt = f\"\"\"You are a customer service chatbot for MyPersonalDelivery whose service description is delimited by triple backticks. You should respond to user queries in a gentle way.\n",
                " ```{service_description}```\n",
                "\"\"\"\n",
                "\n",
                "user_prompt = \"What benefits does MyPersonalDelivery offer?\"\n",
                "\n",
                "# Get the response to the user prompt\n",
                "response = get_response(system_prompt, user_prompt)\n",
                "\n",
                "print(response)\n"
            ]
        }
    ],
    "metadata": {
        "anaconda-cloud": "",
        "kernelspec": {
            "display_name": ".venv",
            "language": "python",
            "name": "python3"
        },
        "language_info": {
            "codemirror_mode": {
                "name": "ipython",
                "version": 3
            },
            "file_extension": ".py",
            "mimetype": "text/x-python",
            "name": "python",
            "nbconvert_exporter": "python",
            "pygments_lexer": "ipython3",
            "version": "3.12.2"
        }
    },
    "nbformat": 4,
    "nbformat_minor": 1
}
